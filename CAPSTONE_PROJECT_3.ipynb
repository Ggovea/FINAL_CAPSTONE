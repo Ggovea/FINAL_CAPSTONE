{
 "cells": [
  {
   "cell_type": "markdown",
   "id": "6f4548b9",
   "metadata": {},
   "source": [
    "# Capstone Project 3"
   ]
  },
  {
   "cell_type": "markdown",
   "id": "daa8cfe4",
   "metadata": {},
   "source": [
    "**Important:** The dataset could not be uploaded to GuitHub but can be downloaded [here](https://www.kaggle.com/ealtman2019/credit-card-transactions/download)"
   ]
  },
  {
   "cell_type": "markdown",
   "id": "9458b37e",
   "metadata": {},
   "source": [
    "## Contents\n",
    "\n",
    "1.  [File Analysis](#FileAnalysis).\n",
    "2.  [File Edition](#FileEdition).\n",
    "3.  [Exploratory Analysis 1: Proportion Analysis](#ProportionAnalysis).\n",
    "4.  [Exploratory Analysis 2: Plot Analysis](#PlotAnalysis).\n",
    "5.  [Preprocessing](#Preprocessing).\n",
    "6.  [Modelling: Decision Tree](#ModellingDecisionTree)."
   ]
  },
  {
   "cell_type": "markdown",
   "id": "61154e04",
   "metadata": {},
   "source": [
    "## 1.  File Analysis<a id='FileAnalysis'></a>"
   ]
  },
  {
   "cell_type": "markdown",
   "id": "6c1ccc7b",
   "metadata": {},
   "source": [
    "In this first part of this notebook we will **analyze** the file and **clean** those rows or entries that could compromise further studies."
   ]
  },
  {
   "cell_type": "code",
   "execution_count": 1,
   "id": "f2d6af36",
   "metadata": {},
   "outputs": [],
   "source": [
    "import numpy as np\n",
    "import pandas as pd\n",
    "import matplotlib.pyplot as plt\n",
    "import seaborn as sns\n",
    "import scipy.stats as sts\n",
    "from datetime import datetime"
   ]
  },
  {
   "cell_type": "code",
   "execution_count": 2,
   "id": "3a0dfbe5",
   "metadata": {},
   "outputs": [
    {
     "data": {
      "text/html": [
       "<div>\n",
       "<style scoped>\n",
       "    .dataframe tbody tr th:only-of-type {\n",
       "        vertical-align: middle;\n",
       "    }\n",
       "\n",
       "    .dataframe tbody tr th {\n",
       "        vertical-align: top;\n",
       "    }\n",
       "\n",
       "    .dataframe thead th {\n",
       "        text-align: right;\n",
       "    }\n",
       "</style>\n",
       "<table border=\"1\" class=\"dataframe\">\n",
       "  <thead>\n",
       "    <tr style=\"text-align: right;\">\n",
       "      <th></th>\n",
       "      <th>User</th>\n",
       "      <th>Card</th>\n",
       "      <th>Year</th>\n",
       "      <th>Month</th>\n",
       "      <th>Day</th>\n",
       "      <th>Time</th>\n",
       "      <th>Amount</th>\n",
       "      <th>Use Chip</th>\n",
       "      <th>Merchant Name</th>\n",
       "      <th>Merchant City</th>\n",
       "      <th>Merchant State</th>\n",
       "      <th>Zip</th>\n",
       "      <th>MCC</th>\n",
       "      <th>Errors?</th>\n",
       "      <th>Is Fraud?</th>\n",
       "    </tr>\n",
       "  </thead>\n",
       "  <tbody>\n",
       "    <tr>\n",
       "      <th>0</th>\n",
       "      <td>0</td>\n",
       "      <td>0</td>\n",
       "      <td>2002</td>\n",
       "      <td>9</td>\n",
       "      <td>1</td>\n",
       "      <td>06:21</td>\n",
       "      <td>$134.09</td>\n",
       "      <td>Swipe Transaction</td>\n",
       "      <td>3527213246127876953</td>\n",
       "      <td>La Verne</td>\n",
       "      <td>CA</td>\n",
       "      <td>91750.0</td>\n",
       "      <td>5300</td>\n",
       "      <td>NaN</td>\n",
       "      <td>No</td>\n",
       "    </tr>\n",
       "    <tr>\n",
       "      <th>1</th>\n",
       "      <td>0</td>\n",
       "      <td>0</td>\n",
       "      <td>2002</td>\n",
       "      <td>9</td>\n",
       "      <td>1</td>\n",
       "      <td>06:42</td>\n",
       "      <td>$38.48</td>\n",
       "      <td>Swipe Transaction</td>\n",
       "      <td>-727612092139916043</td>\n",
       "      <td>Monterey Park</td>\n",
       "      <td>CA</td>\n",
       "      <td>91754.0</td>\n",
       "      <td>5411</td>\n",
       "      <td>NaN</td>\n",
       "      <td>No</td>\n",
       "    </tr>\n",
       "    <tr>\n",
       "      <th>2</th>\n",
       "      <td>0</td>\n",
       "      <td>0</td>\n",
       "      <td>2002</td>\n",
       "      <td>9</td>\n",
       "      <td>2</td>\n",
       "      <td>06:22</td>\n",
       "      <td>$120.34</td>\n",
       "      <td>Swipe Transaction</td>\n",
       "      <td>-727612092139916043</td>\n",
       "      <td>Monterey Park</td>\n",
       "      <td>CA</td>\n",
       "      <td>91754.0</td>\n",
       "      <td>5411</td>\n",
       "      <td>NaN</td>\n",
       "      <td>No</td>\n",
       "    </tr>\n",
       "    <tr>\n",
       "      <th>3</th>\n",
       "      <td>0</td>\n",
       "      <td>0</td>\n",
       "      <td>2002</td>\n",
       "      <td>9</td>\n",
       "      <td>2</td>\n",
       "      <td>17:45</td>\n",
       "      <td>$128.95</td>\n",
       "      <td>Swipe Transaction</td>\n",
       "      <td>3414527459579106770</td>\n",
       "      <td>Monterey Park</td>\n",
       "      <td>CA</td>\n",
       "      <td>91754.0</td>\n",
       "      <td>5651</td>\n",
       "      <td>NaN</td>\n",
       "      <td>No</td>\n",
       "    </tr>\n",
       "    <tr>\n",
       "      <th>4</th>\n",
       "      <td>0</td>\n",
       "      <td>0</td>\n",
       "      <td>2002</td>\n",
       "      <td>9</td>\n",
       "      <td>3</td>\n",
       "      <td>06:23</td>\n",
       "      <td>$104.71</td>\n",
       "      <td>Swipe Transaction</td>\n",
       "      <td>5817218446178736267</td>\n",
       "      <td>La Verne</td>\n",
       "      <td>CA</td>\n",
       "      <td>91750.0</td>\n",
       "      <td>5912</td>\n",
       "      <td>NaN</td>\n",
       "      <td>No</td>\n",
       "    </tr>\n",
       "  </tbody>\n",
       "</table>\n",
       "</div>"
      ],
      "text/plain": [
       "   User  Card  Year  Month  Day   Time   Amount           Use Chip  \\\n",
       "0     0     0  2002      9    1  06:21  $134.09  Swipe Transaction   \n",
       "1     0     0  2002      9    1  06:42   $38.48  Swipe Transaction   \n",
       "2     0     0  2002      9    2  06:22  $120.34  Swipe Transaction   \n",
       "3     0     0  2002      9    2  17:45  $128.95  Swipe Transaction   \n",
       "4     0     0  2002      9    3  06:23  $104.71  Swipe Transaction   \n",
       "\n",
       "         Merchant Name  Merchant City Merchant State      Zip   MCC Errors?  \\\n",
       "0  3527213246127876953       La Verne             CA  91750.0  5300     NaN   \n",
       "1  -727612092139916043  Monterey Park             CA  91754.0  5411     NaN   \n",
       "2  -727612092139916043  Monterey Park             CA  91754.0  5411     NaN   \n",
       "3  3414527459579106770  Monterey Park             CA  91754.0  5651     NaN   \n",
       "4  5817218446178736267       La Verne             CA  91750.0  5912     NaN   \n",
       "\n",
       "  Is Fraud?  \n",
       "0        No  \n",
       "1        No  \n",
       "2        No  \n",
       "3        No  \n",
       "4        No  "
      ]
     },
     "execution_count": 2,
     "metadata": {},
     "output_type": "execute_result"
    }
   ],
   "source": [
    "# File read\n",
    "file = pd.read_csv('credit.csv')\n",
    "file.head()"
   ]
  },
  {
   "cell_type": "markdown",
   "id": "16fee4b3",
   "metadata": {},
   "source": [
    "Let us have some general information about the file. As we can see, we have more than 24 million data points."
   ]
  },
  {
   "cell_type": "code",
   "execution_count": 4,
   "id": "7f7fb873",
   "metadata": {},
   "outputs": [
    {
     "name": "stdout",
     "output_type": "stream",
     "text": [
      "<class 'pandas.core.frame.DataFrame'>\n",
      "RangeIndex: 24386900 entries, 0 to 24386899\n",
      "Data columns (total 15 columns):\n",
      " #   Column          Dtype  \n",
      "---  ------          -----  \n",
      " 0   User            int64  \n",
      " 1   Card            int64  \n",
      " 2   Year            int64  \n",
      " 3   Month           int64  \n",
      " 4   Day             int64  \n",
      " 5   Time            object \n",
      " 6   Amount          object \n",
      " 7   Use Chip        object \n",
      " 8   Merchant Name   int64  \n",
      " 9   Merchant City   object \n",
      " 10  Merchant State  object \n",
      " 11  Zip             float64\n",
      " 12  MCC             int64  \n",
      " 13  Errors?         object \n",
      " 14  Is Fraud?       object \n",
      "dtypes: float64(1), int64(7), object(7)\n",
      "memory usage: 2.7+ GB\n"
     ]
    }
   ],
   "source": [
    "# General information about the file\n",
    "file.info()"
   ]
  },
  {
   "cell_type": "markdown",
   "id": "54290efc",
   "metadata": {},
   "source": [
    "Now let's see if there is any null values in any of our columns."
   ]
  },
  {
   "cell_type": "code",
   "execution_count": 14,
   "id": "f7e40997",
   "metadata": {},
   "outputs": [
    {
     "data": {
      "text/plain": [
       "User                     0\n",
       "Card                     0\n",
       "Year                     0\n",
       "Month                    0\n",
       "Day                      0\n",
       "Time                     0\n",
       "Amount                   0\n",
       "Use Chip                 0\n",
       "Merchant Name            0\n",
       "Merchant City            0\n",
       "Merchant State     2720821\n",
       "Zip                2878135\n",
       "MCC                      0\n",
       "Errors?           23998469\n",
       "Is Fraud?                0\n",
       "dtype: int64"
      ]
     },
     "execution_count": 14,
     "metadata": {},
     "output_type": "execute_result"
    }
   ],
   "source": [
    "# Null values count\n",
    "file.isnull().sum()"
   ]
  },
  {
   "cell_type": "markdown",
   "id": "01b4c8f5",
   "metadata": {},
   "source": [
    "As we can see the only columns in which we find null values are \"Merchant State\", \"Zip\", and \"Errors\". Yet it is possible that those null values have some significance or reasont to be actually null. It is important to analyze the nature of those null values."
   ]
  },
  {
   "cell_type": "code",
   "execution_count": 14,
   "id": "b1ff1e2a",
   "metadata": {},
   "outputs": [
    {
     "data": {
      "text/plain": [
       "array([nan, 'Technical Glitch', 'Insufficient Balance', 'Bad PIN',\n",
       "       'Bad PIN,Insufficient Balance', 'Bad Expiration',\n",
       "       'Bad PIN,Technical Glitch', 'Bad Card Number', 'Bad CVV',\n",
       "       'Bad Zipcode', 'Insufficient Balance,Technical Glitch',\n",
       "       'Bad Card Number,Insufficient Balance', 'Bad Card Number,Bad CVV',\n",
       "       'Bad CVV,Insufficient Balance', 'Bad Card Number,Bad Expiration',\n",
       "       'Bad Expiration,Bad CVV', 'Bad Expiration,Insufficient Balance',\n",
       "       'Bad Expiration,Technical Glitch',\n",
       "       'Bad Card Number,Bad Expiration,Technical Glitch',\n",
       "       'Bad CVV,Technical Glitch', 'Bad Card Number,Technical Glitch',\n",
       "       'Bad Zipcode,Insufficient Balance', 'Bad Zipcode,Technical Glitch',\n",
       "       'Bad Card Number,Bad Expiration,Insufficient Balance'],\n",
       "      dtype=object)"
      ]
     },
     "execution_count": 14,
     "metadata": {},
     "output_type": "execute_result"
    }
   ],
   "source": [
    "file['Errors?'].unique()"
   ]
  },
  {
   "cell_type": "markdown",
   "id": "ba99f029",
   "metadata": {},
   "source": [
    "In the case of the \"Errors column, we can see that the null value means that no error was produced in the credit card transaction. The null values in this case are completely valid and cannot be removed nor changed."
   ]
  },
  {
   "cell_type": "markdown",
   "id": "936b482b",
   "metadata": {},
   "source": [
    "As we can see in the `info` above, the number of null values in the Zip column is different from the number of null values in the \"Merchant State\" column. It is convenient then, to take a look at those rows that do have a null value only in one of the mentioned columns."
   ]
  },
  {
   "cell_type": "code",
   "execution_count": 51,
   "id": "7a6ca4c4",
   "metadata": {},
   "outputs": [
    {
     "data": {
      "text/html": [
       "<div>\n",
       "<style scoped>\n",
       "    .dataframe tbody tr th:only-of-type {\n",
       "        vertical-align: middle;\n",
       "    }\n",
       "\n",
       "    .dataframe tbody tr th {\n",
       "        vertical-align: top;\n",
       "    }\n",
       "\n",
       "    .dataframe thead th {\n",
       "        text-align: right;\n",
       "    }\n",
       "</style>\n",
       "<table border=\"1\" class=\"dataframe\">\n",
       "  <thead>\n",
       "    <tr style=\"text-align: right;\">\n",
       "      <th></th>\n",
       "      <th>User</th>\n",
       "      <th>Card</th>\n",
       "      <th>Year</th>\n",
       "      <th>Month</th>\n",
       "      <th>Day</th>\n",
       "      <th>Time</th>\n",
       "      <th>Amount</th>\n",
       "      <th>Use Chip</th>\n",
       "      <th>Merchant Name</th>\n",
       "      <th>Merchant City</th>\n",
       "      <th>Merchant State</th>\n",
       "      <th>Zip</th>\n",
       "      <th>MCC</th>\n",
       "      <th>Errors?</th>\n",
       "      <th>Is Fraud?</th>\n",
       "    </tr>\n",
       "  </thead>\n",
       "  <tbody>\n",
       "    <tr>\n",
       "      <th>407</th>\n",
       "      <td>0</td>\n",
       "      <td>0</td>\n",
       "      <td>2003</td>\n",
       "      <td>2</td>\n",
       "      <td>24</td>\n",
       "      <td>13:02</td>\n",
       "      <td>$7.52</td>\n",
       "      <td>Swipe Transaction</td>\n",
       "      <td>-727612092139916043</td>\n",
       "      <td>Zurich</td>\n",
       "      <td>Switzerland</td>\n",
       "      <td>NaN</td>\n",
       "      <td>5411</td>\n",
       "      <td>NaN</td>\n",
       "      <td>No</td>\n",
       "    </tr>\n",
       "    <tr>\n",
       "      <th>408</th>\n",
       "      <td>0</td>\n",
       "      <td>0</td>\n",
       "      <td>2003</td>\n",
       "      <td>2</td>\n",
       "      <td>25</td>\n",
       "      <td>06:46</td>\n",
       "      <td>$36.97</td>\n",
       "      <td>Swipe Transaction</td>\n",
       "      <td>-4816289482172287511</td>\n",
       "      <td>Zurich</td>\n",
       "      <td>Switzerland</td>\n",
       "      <td>NaN</td>\n",
       "      <td>5411</td>\n",
       "      <td>NaN</td>\n",
       "      <td>No</td>\n",
       "    </tr>\n",
       "    <tr>\n",
       "      <th>906</th>\n",
       "      <td>0</td>\n",
       "      <td>0</td>\n",
       "      <td>2004</td>\n",
       "      <td>7</td>\n",
       "      <td>22</td>\n",
       "      <td>06:32</td>\n",
       "      <td>$38.26</td>\n",
       "      <td>Swipe Transaction</td>\n",
       "      <td>3510944833163794547</td>\n",
       "      <td>Tallinn</td>\n",
       "      <td>Estonia</td>\n",
       "      <td>NaN</td>\n",
       "      <td>5912</td>\n",
       "      <td>NaN</td>\n",
       "      <td>No</td>\n",
       "    </tr>\n",
       "    <tr>\n",
       "      <th>907</th>\n",
       "      <td>0</td>\n",
       "      <td>0</td>\n",
       "      <td>2004</td>\n",
       "      <td>7</td>\n",
       "      <td>23</td>\n",
       "      <td>20:05</td>\n",
       "      <td>$75.38</td>\n",
       "      <td>Swipe Transaction</td>\n",
       "      <td>8793545055147237096</td>\n",
       "      <td>Tallinn</td>\n",
       "      <td>Estonia</td>\n",
       "      <td>NaN</td>\n",
       "      <td>5812</td>\n",
       "      <td>NaN</td>\n",
       "      <td>No</td>\n",
       "    </tr>\n",
       "    <tr>\n",
       "      <th>908</th>\n",
       "      <td>0</td>\n",
       "      <td>0</td>\n",
       "      <td>2004</td>\n",
       "      <td>7</td>\n",
       "      <td>25</td>\n",
       "      <td>13:08</td>\n",
       "      <td>$16.20</td>\n",
       "      <td>Swipe Transaction</td>\n",
       "      <td>2027553650310142703</td>\n",
       "      <td>Tallinn</td>\n",
       "      <td>Estonia</td>\n",
       "      <td>NaN</td>\n",
       "      <td>5541</td>\n",
       "      <td>NaN</td>\n",
       "      <td>No</td>\n",
       "    </tr>\n",
       "  </tbody>\n",
       "</table>\n",
       "</div>"
      ],
      "text/plain": [
       "     User  Card  Year  Month  Day   Time  Amount           Use Chip  \\\n",
       "407     0     0  2003      2   24  13:02   $7.52  Swipe Transaction   \n",
       "408     0     0  2003      2   25  06:46  $36.97  Swipe Transaction   \n",
       "906     0     0  2004      7   22  06:32  $38.26  Swipe Transaction   \n",
       "907     0     0  2004      7   23  20:05  $75.38  Swipe Transaction   \n",
       "908     0     0  2004      7   25  13:08  $16.20  Swipe Transaction   \n",
       "\n",
       "           Merchant Name Merchant City Merchant State  Zip   MCC Errors?  \\\n",
       "407  -727612092139916043        Zurich    Switzerland  NaN  5411     NaN   \n",
       "408 -4816289482172287511        Zurich    Switzerland  NaN  5411     NaN   \n",
       "906  3510944833163794547       Tallinn        Estonia  NaN  5912     NaN   \n",
       "907  8793545055147237096       Tallinn        Estonia  NaN  5812     NaN   \n",
       "908  2027553650310142703       Tallinn        Estonia  NaN  5541     NaN   \n",
       "\n",
       "    Is Fraud?  \n",
       "407        No  \n",
       "408        No  \n",
       "906        No  \n",
       "907        No  \n",
       "908        No  "
      ]
     },
     "execution_count": 51,
     "metadata": {},
     "output_type": "execute_result"
    }
   ],
   "source": [
    "file[np.logical_and(file['Zip'].isnull(), np.logical_not(file['Merchant State'].isnull()))].head()"
   ]
  },
  {
   "cell_type": "markdown",
   "id": "70a3f1c0",
   "metadata": {},
   "source": [
    "There are some rows in which the \"Zip\" column appears to have a null value despite the fact that the \"Merchant City\" column is not null. Those are the rows in which the transaction took place on a different country."
   ]
  },
  {
   "cell_type": "code",
   "execution_count": 52,
   "id": "0ddbfbb0",
   "metadata": {},
   "outputs": [
    {
     "data": {
      "text/html": [
       "<div>\n",
       "<style scoped>\n",
       "    .dataframe tbody tr th:only-of-type {\n",
       "        vertical-align: middle;\n",
       "    }\n",
       "\n",
       "    .dataframe tbody tr th {\n",
       "        vertical-align: top;\n",
       "    }\n",
       "\n",
       "    .dataframe thead th {\n",
       "        text-align: right;\n",
       "    }\n",
       "</style>\n",
       "<table border=\"1\" class=\"dataframe\">\n",
       "  <thead>\n",
       "    <tr style=\"text-align: right;\">\n",
       "      <th></th>\n",
       "      <th>User</th>\n",
       "      <th>Card</th>\n",
       "      <th>Year</th>\n",
       "      <th>Month</th>\n",
       "      <th>Day</th>\n",
       "      <th>Time</th>\n",
       "      <th>Amount</th>\n",
       "      <th>Use Chip</th>\n",
       "      <th>Merchant Name</th>\n",
       "      <th>Merchant City</th>\n",
       "      <th>Merchant State</th>\n",
       "      <th>Zip</th>\n",
       "      <th>MCC</th>\n",
       "      <th>Errors?</th>\n",
       "      <th>Is Fraud?</th>\n",
       "    </tr>\n",
       "  </thead>\n",
       "  <tbody>\n",
       "  </tbody>\n",
       "</table>\n",
       "</div>"
      ],
      "text/plain": [
       "Empty DataFrame\n",
       "Columns: [User, Card, Year, Month, Day, Time, Amount, Use Chip, Merchant Name, Merchant City, Merchant State, Zip, MCC, Errors?, Is Fraud?]\n",
       "Index: []"
      ]
     },
     "execution_count": 52,
     "metadata": {},
     "output_type": "execute_result"
    }
   ],
   "source": [
    "# Choose rows with \"Merchant State nulls\" but \"Zip non-nulls\"\n",
    "file[np.logical_and(file['Merchant State'].isnull(), np.logical_not(file['Zip'].isnull()))].head()"
   ]
  },
  {
   "cell_type": "markdown",
   "id": "a8ae7942",
   "metadata": {},
   "source": [
    "There are no rows with an empty \"Merchant State\" entry and a non-null entry in the \"Zip\" column. That means that every non-null \"Zip\" value is always associated with a specific country. On the other hand, there are some rows that have null values in both the \"Zip\" and the \"Merchant State\" columns. It is impportant to analyze those:"
   ]
  },
  {
   "cell_type": "code",
   "execution_count": 54,
   "id": "4b626622",
   "metadata": {},
   "outputs": [
    {
     "data": {
      "text/html": [
       "<div>\n",
       "<style scoped>\n",
       "    .dataframe tbody tr th:only-of-type {\n",
       "        vertical-align: middle;\n",
       "    }\n",
       "\n",
       "    .dataframe tbody tr th {\n",
       "        vertical-align: top;\n",
       "    }\n",
       "\n",
       "    .dataframe thead th {\n",
       "        text-align: right;\n",
       "    }\n",
       "</style>\n",
       "<table border=\"1\" class=\"dataframe\">\n",
       "  <thead>\n",
       "    <tr style=\"text-align: right;\">\n",
       "      <th></th>\n",
       "      <th>User</th>\n",
       "      <th>Card</th>\n",
       "      <th>Year</th>\n",
       "      <th>Month</th>\n",
       "      <th>Day</th>\n",
       "      <th>Time</th>\n",
       "      <th>Amount</th>\n",
       "      <th>Use Chip</th>\n",
       "      <th>Merchant Name</th>\n",
       "      <th>Merchant City</th>\n",
       "      <th>Merchant State</th>\n",
       "      <th>Zip</th>\n",
       "      <th>MCC</th>\n",
       "      <th>Errors?</th>\n",
       "      <th>Is Fraud?</th>\n",
       "    </tr>\n",
       "  </thead>\n",
       "  <tbody>\n",
       "    <tr>\n",
       "      <th>11</th>\n",
       "      <td>0</td>\n",
       "      <td>0</td>\n",
       "      <td>2002</td>\n",
       "      <td>9</td>\n",
       "      <td>5</td>\n",
       "      <td>20:41</td>\n",
       "      <td>$53.91</td>\n",
       "      <td>Online Transaction</td>\n",
       "      <td>-9092677072201095172</td>\n",
       "      <td>ONLINE</td>\n",
       "      <td>NaN</td>\n",
       "      <td>NaN</td>\n",
       "      <td>4900</td>\n",
       "      <td>NaN</td>\n",
       "      <td>No</td>\n",
       "    </tr>\n",
       "    <tr>\n",
       "      <th>24</th>\n",
       "      <td>0</td>\n",
       "      <td>0</td>\n",
       "      <td>2002</td>\n",
       "      <td>9</td>\n",
       "      <td>9</td>\n",
       "      <td>20:02</td>\n",
       "      <td>$144.90</td>\n",
       "      <td>Online Transaction</td>\n",
       "      <td>-8338381919281017248</td>\n",
       "      <td>ONLINE</td>\n",
       "      <td>NaN</td>\n",
       "      <td>NaN</td>\n",
       "      <td>4899</td>\n",
       "      <td>NaN</td>\n",
       "      <td>No</td>\n",
       "    </tr>\n",
       "    <tr>\n",
       "      <th>85</th>\n",
       "      <td>0</td>\n",
       "      <td>0</td>\n",
       "      <td>2002</td>\n",
       "      <td>9</td>\n",
       "      <td>30</td>\n",
       "      <td>06:21</td>\n",
       "      <td>$127.32</td>\n",
       "      <td>Online Transaction</td>\n",
       "      <td>-7421093378627544099</td>\n",
       "      <td>ONLINE</td>\n",
       "      <td>NaN</td>\n",
       "      <td>NaN</td>\n",
       "      <td>5311</td>\n",
       "      <td>NaN</td>\n",
       "      <td>No</td>\n",
       "    </tr>\n",
       "    <tr>\n",
       "      <th>99</th>\n",
       "      <td>0</td>\n",
       "      <td>0</td>\n",
       "      <td>2002</td>\n",
       "      <td>10</td>\n",
       "      <td>6</td>\n",
       "      <td>06:14</td>\n",
       "      <td>$139.39</td>\n",
       "      <td>Online Transaction</td>\n",
       "      <td>-7421093378627544099</td>\n",
       "      <td>ONLINE</td>\n",
       "      <td>NaN</td>\n",
       "      <td>NaN</td>\n",
       "      <td>5311</td>\n",
       "      <td>NaN</td>\n",
       "      <td>No</td>\n",
       "    </tr>\n",
       "    <tr>\n",
       "      <th>106</th>\n",
       "      <td>0</td>\n",
       "      <td>0</td>\n",
       "      <td>2002</td>\n",
       "      <td>10</td>\n",
       "      <td>9</td>\n",
       "      <td>08:16</td>\n",
       "      <td>$53.09</td>\n",
       "      <td>Online Transaction</td>\n",
       "      <td>-4956618006720593695</td>\n",
       "      <td>ONLINE</td>\n",
       "      <td>NaN</td>\n",
       "      <td>NaN</td>\n",
       "      <td>5193</td>\n",
       "      <td>NaN</td>\n",
       "      <td>No</td>\n",
       "    </tr>\n",
       "  </tbody>\n",
       "</table>\n",
       "</div>"
      ],
      "text/plain": [
       "     User  Card  Year  Month  Day   Time   Amount            Use Chip  \\\n",
       "11      0     0  2002      9    5  20:41   $53.91  Online Transaction   \n",
       "24      0     0  2002      9    9  20:02  $144.90  Online Transaction   \n",
       "85      0     0  2002      9   30  06:21  $127.32  Online Transaction   \n",
       "99      0     0  2002     10    6  06:14  $139.39  Online Transaction   \n",
       "106     0     0  2002     10    9  08:16   $53.09  Online Transaction   \n",
       "\n",
       "           Merchant Name Merchant City Merchant State  Zip   MCC Errors?  \\\n",
       "11  -9092677072201095172        ONLINE            NaN  NaN  4900     NaN   \n",
       "24  -8338381919281017248        ONLINE            NaN  NaN  4899     NaN   \n",
       "85  -7421093378627544099        ONLINE            NaN  NaN  5311     NaN   \n",
       "99  -7421093378627544099        ONLINE            NaN  NaN  5311     NaN   \n",
       "106 -4956618006720593695        ONLINE            NaN  NaN  5193     NaN   \n",
       "\n",
       "    Is Fraud?  \n",
       "11         No  \n",
       "24         No  \n",
       "85         No  \n",
       "99         No  \n",
       "106        No  "
      ]
     },
     "execution_count": 54,
     "metadata": {},
     "output_type": "execute_result"
    }
   ],
   "source": [
    "# Choose those rows with \"Zip nulls\" and \"Merchant State nulls\"\n",
    "file[np.logical_and(file['Zip'].isnull(), file['Merchant State'].isnull())].head()"
   ]
  },
  {
   "cell_type": "markdown",
   "id": "4f924e0a",
   "metadata": {},
   "source": [
    "We can see that those rows with null values in both columns actually does not belong to a particular city either because it was an online transaction."
   ]
  },
  {
   "cell_type": "markdown",
   "id": "c5d7388e",
   "metadata": {},
   "source": [
    "## 2.  File Edition<a id='FileEdition'></a>"
   ]
  },
  {
   "cell_type": "code",
   "execution_count": 3,
   "id": "cb354bf6",
   "metadata": {},
   "outputs": [],
   "source": [
    "import numpy as np\n",
    "import pandas as pd\n",
    "import matplotlib.pyplot as plt\n",
    "import seaborn as sns\n",
    "from datetime import datetime"
   ]
  },
  {
   "cell_type": "markdown",
   "id": "9683eb3c",
   "metadata": {},
   "source": [
    "In this second part, we will try to change the format of some columns so we can work with them in an easier way. This part is still \"data wrangling\".\n",
    "\n",
    "Perhaps it would be best to \"simplify\" some of the columns in order for us to better analyze them. First, we must change the `dtype` of the \"Amount\" column to float values. In that way we an can analyze different quantities."
   ]
  },
  {
   "cell_type": "code",
   "execution_count": 3,
   "id": "f1ff0c98",
   "metadata": {},
   "outputs": [
    {
     "data": {
      "text/html": [
       "<div>\n",
       "<style scoped>\n",
       "    .dataframe tbody tr th:only-of-type {\n",
       "        vertical-align: middle;\n",
       "    }\n",
       "\n",
       "    .dataframe tbody tr th {\n",
       "        vertical-align: top;\n",
       "    }\n",
       "\n",
       "    .dataframe thead th {\n",
       "        text-align: right;\n",
       "    }\n",
       "</style>\n",
       "<table border=\"1\" class=\"dataframe\">\n",
       "  <thead>\n",
       "    <tr style=\"text-align: right;\">\n",
       "      <th></th>\n",
       "      <th>User</th>\n",
       "      <th>Card</th>\n",
       "      <th>Year</th>\n",
       "      <th>Month</th>\n",
       "      <th>Day</th>\n",
       "      <th>Time</th>\n",
       "      <th>Amount</th>\n",
       "      <th>Use Chip</th>\n",
       "      <th>Merchant Name</th>\n",
       "      <th>Merchant City</th>\n",
       "      <th>Merchant State</th>\n",
       "      <th>Zip</th>\n",
       "      <th>MCC</th>\n",
       "      <th>Errors?</th>\n",
       "      <th>Is Fraud?</th>\n",
       "    </tr>\n",
       "  </thead>\n",
       "  <tbody>\n",
       "    <tr>\n",
       "      <th>0</th>\n",
       "      <td>0</td>\n",
       "      <td>0</td>\n",
       "      <td>2002</td>\n",
       "      <td>9</td>\n",
       "      <td>1</td>\n",
       "      <td>06:21</td>\n",
       "      <td>134.09</td>\n",
       "      <td>Swipe Transaction</td>\n",
       "      <td>3527213246127876953</td>\n",
       "      <td>La Verne</td>\n",
       "      <td>CA</td>\n",
       "      <td>91750.0</td>\n",
       "      <td>5300</td>\n",
       "      <td>NaN</td>\n",
       "      <td>No</td>\n",
       "    </tr>\n",
       "    <tr>\n",
       "      <th>1</th>\n",
       "      <td>0</td>\n",
       "      <td>0</td>\n",
       "      <td>2002</td>\n",
       "      <td>9</td>\n",
       "      <td>1</td>\n",
       "      <td>06:42</td>\n",
       "      <td>38.48</td>\n",
       "      <td>Swipe Transaction</td>\n",
       "      <td>-727612092139916043</td>\n",
       "      <td>Monterey Park</td>\n",
       "      <td>CA</td>\n",
       "      <td>91754.0</td>\n",
       "      <td>5411</td>\n",
       "      <td>NaN</td>\n",
       "      <td>No</td>\n",
       "    </tr>\n",
       "    <tr>\n",
       "      <th>2</th>\n",
       "      <td>0</td>\n",
       "      <td>0</td>\n",
       "      <td>2002</td>\n",
       "      <td>9</td>\n",
       "      <td>2</td>\n",
       "      <td>06:22</td>\n",
       "      <td>120.34</td>\n",
       "      <td>Swipe Transaction</td>\n",
       "      <td>-727612092139916043</td>\n",
       "      <td>Monterey Park</td>\n",
       "      <td>CA</td>\n",
       "      <td>91754.0</td>\n",
       "      <td>5411</td>\n",
       "      <td>NaN</td>\n",
       "      <td>No</td>\n",
       "    </tr>\n",
       "    <tr>\n",
       "      <th>3</th>\n",
       "      <td>0</td>\n",
       "      <td>0</td>\n",
       "      <td>2002</td>\n",
       "      <td>9</td>\n",
       "      <td>2</td>\n",
       "      <td>17:45</td>\n",
       "      <td>128.95</td>\n",
       "      <td>Swipe Transaction</td>\n",
       "      <td>3414527459579106770</td>\n",
       "      <td>Monterey Park</td>\n",
       "      <td>CA</td>\n",
       "      <td>91754.0</td>\n",
       "      <td>5651</td>\n",
       "      <td>NaN</td>\n",
       "      <td>No</td>\n",
       "    </tr>\n",
       "    <tr>\n",
       "      <th>4</th>\n",
       "      <td>0</td>\n",
       "      <td>0</td>\n",
       "      <td>2002</td>\n",
       "      <td>9</td>\n",
       "      <td>3</td>\n",
       "      <td>06:23</td>\n",
       "      <td>104.71</td>\n",
       "      <td>Swipe Transaction</td>\n",
       "      <td>5817218446178736267</td>\n",
       "      <td>La Verne</td>\n",
       "      <td>CA</td>\n",
       "      <td>91750.0</td>\n",
       "      <td>5912</td>\n",
       "      <td>NaN</td>\n",
       "      <td>No</td>\n",
       "    </tr>\n",
       "  </tbody>\n",
       "</table>\n",
       "</div>"
      ],
      "text/plain": [
       "   User  Card  Year  Month  Day   Time  Amount           Use Chip  \\\n",
       "0     0     0  2002      9    1  06:21  134.09  Swipe Transaction   \n",
       "1     0     0  2002      9    1  06:42   38.48  Swipe Transaction   \n",
       "2     0     0  2002      9    2  06:22  120.34  Swipe Transaction   \n",
       "3     0     0  2002      9    2  17:45  128.95  Swipe Transaction   \n",
       "4     0     0  2002      9    3  06:23  104.71  Swipe Transaction   \n",
       "\n",
       "         Merchant Name  Merchant City Merchant State      Zip   MCC Errors?  \\\n",
       "0  3527213246127876953       La Verne             CA  91750.0  5300     NaN   \n",
       "1  -727612092139916043  Monterey Park             CA  91754.0  5411     NaN   \n",
       "2  -727612092139916043  Monterey Park             CA  91754.0  5411     NaN   \n",
       "3  3414527459579106770  Monterey Park             CA  91754.0  5651     NaN   \n",
       "4  5817218446178736267       La Verne             CA  91750.0  5912     NaN   \n",
       "\n",
       "  Is Fraud?  \n",
       "0        No  \n",
       "1        No  \n",
       "2        No  \n",
       "3        No  \n",
       "4        No  "
      ]
     },
     "execution_count": 3,
     "metadata": {},
     "output_type": "execute_result"
    }
   ],
   "source": [
    "# For security create a copy of our \"file\" and store into \"data\"\n",
    "data = file.copy()\n",
    "data['Amount'] = data['Amount'].str.strip('$').astype('float64')\n",
    "data.head()"
   ]
  },
  {
   "cell_type": "markdown",
   "id": "f671a46c",
   "metadata": {},
   "source": [
    "Now, we will convert the \"Time\" column to datetime. We will only use the hour in the time column."
   ]
  },
  {
   "cell_type": "code",
   "execution_count": 4,
   "id": "8c3775fe",
   "metadata": {},
   "outputs": [
    {
     "data": {
      "text/html": [
       "<div>\n",
       "<style scoped>\n",
       "    .dataframe tbody tr th:only-of-type {\n",
       "        vertical-align: middle;\n",
       "    }\n",
       "\n",
       "    .dataframe tbody tr th {\n",
       "        vertical-align: top;\n",
       "    }\n",
       "\n",
       "    .dataframe thead th {\n",
       "        text-align: right;\n",
       "    }\n",
       "</style>\n",
       "<table border=\"1\" class=\"dataframe\">\n",
       "  <thead>\n",
       "    <tr style=\"text-align: right;\">\n",
       "      <th></th>\n",
       "      <th>User</th>\n",
       "      <th>Card</th>\n",
       "      <th>Year</th>\n",
       "      <th>Month</th>\n",
       "      <th>Day</th>\n",
       "      <th>Time</th>\n",
       "      <th>Amount</th>\n",
       "      <th>Use Chip</th>\n",
       "      <th>Merchant Name</th>\n",
       "      <th>Merchant City</th>\n",
       "      <th>Merchant State</th>\n",
       "      <th>Zip</th>\n",
       "      <th>MCC</th>\n",
       "      <th>Errors?</th>\n",
       "      <th>Is Fraud?</th>\n",
       "    </tr>\n",
       "  </thead>\n",
       "  <tbody>\n",
       "    <tr>\n",
       "      <th>0</th>\n",
       "      <td>0</td>\n",
       "      <td>0</td>\n",
       "      <td>2002</td>\n",
       "      <td>9</td>\n",
       "      <td>1</td>\n",
       "      <td>6</td>\n",
       "      <td>134.09</td>\n",
       "      <td>Swipe Transaction</td>\n",
       "      <td>3527213246127876953</td>\n",
       "      <td>La Verne</td>\n",
       "      <td>CA</td>\n",
       "      <td>91750.0</td>\n",
       "      <td>5300</td>\n",
       "      <td>NaN</td>\n",
       "      <td>No</td>\n",
       "    </tr>\n",
       "    <tr>\n",
       "      <th>1</th>\n",
       "      <td>0</td>\n",
       "      <td>0</td>\n",
       "      <td>2002</td>\n",
       "      <td>9</td>\n",
       "      <td>1</td>\n",
       "      <td>6</td>\n",
       "      <td>38.48</td>\n",
       "      <td>Swipe Transaction</td>\n",
       "      <td>-727612092139916043</td>\n",
       "      <td>Monterey Park</td>\n",
       "      <td>CA</td>\n",
       "      <td>91754.0</td>\n",
       "      <td>5411</td>\n",
       "      <td>NaN</td>\n",
       "      <td>No</td>\n",
       "    </tr>\n",
       "    <tr>\n",
       "      <th>2</th>\n",
       "      <td>0</td>\n",
       "      <td>0</td>\n",
       "      <td>2002</td>\n",
       "      <td>9</td>\n",
       "      <td>2</td>\n",
       "      <td>6</td>\n",
       "      <td>120.34</td>\n",
       "      <td>Swipe Transaction</td>\n",
       "      <td>-727612092139916043</td>\n",
       "      <td>Monterey Park</td>\n",
       "      <td>CA</td>\n",
       "      <td>91754.0</td>\n",
       "      <td>5411</td>\n",
       "      <td>NaN</td>\n",
       "      <td>No</td>\n",
       "    </tr>\n",
       "    <tr>\n",
       "      <th>3</th>\n",
       "      <td>0</td>\n",
       "      <td>0</td>\n",
       "      <td>2002</td>\n",
       "      <td>9</td>\n",
       "      <td>2</td>\n",
       "      <td>17</td>\n",
       "      <td>128.95</td>\n",
       "      <td>Swipe Transaction</td>\n",
       "      <td>3414527459579106770</td>\n",
       "      <td>Monterey Park</td>\n",
       "      <td>CA</td>\n",
       "      <td>91754.0</td>\n",
       "      <td>5651</td>\n",
       "      <td>NaN</td>\n",
       "      <td>No</td>\n",
       "    </tr>\n",
       "    <tr>\n",
       "      <th>4</th>\n",
       "      <td>0</td>\n",
       "      <td>0</td>\n",
       "      <td>2002</td>\n",
       "      <td>9</td>\n",
       "      <td>3</td>\n",
       "      <td>6</td>\n",
       "      <td>104.71</td>\n",
       "      <td>Swipe Transaction</td>\n",
       "      <td>5817218446178736267</td>\n",
       "      <td>La Verne</td>\n",
       "      <td>CA</td>\n",
       "      <td>91750.0</td>\n",
       "      <td>5912</td>\n",
       "      <td>NaN</td>\n",
       "      <td>No</td>\n",
       "    </tr>\n",
       "  </tbody>\n",
       "</table>\n",
       "</div>"
      ],
      "text/plain": [
       "   User  Card  Year  Month  Day  Time  Amount           Use Chip  \\\n",
       "0     0     0  2002      9    1     6  134.09  Swipe Transaction   \n",
       "1     0     0  2002      9    1     6   38.48  Swipe Transaction   \n",
       "2     0     0  2002      9    2     6  120.34  Swipe Transaction   \n",
       "3     0     0  2002      9    2    17  128.95  Swipe Transaction   \n",
       "4     0     0  2002      9    3     6  104.71  Swipe Transaction   \n",
       "\n",
       "         Merchant Name  Merchant City Merchant State      Zip   MCC Errors?  \\\n",
       "0  3527213246127876953       La Verne             CA  91750.0  5300     NaN   \n",
       "1  -727612092139916043  Monterey Park             CA  91754.0  5411     NaN   \n",
       "2  -727612092139916043  Monterey Park             CA  91754.0  5411     NaN   \n",
       "3  3414527459579106770  Monterey Park             CA  91754.0  5651     NaN   \n",
       "4  5817218446178736267       La Verne             CA  91750.0  5912     NaN   \n",
       "\n",
       "  Is Fraud?  \n",
       "0        No  \n",
       "1        No  \n",
       "2        No  \n",
       "3        No  \n",
       "4        No  "
      ]
     },
     "execution_count": 4,
     "metadata": {},
     "output_type": "execute_result"
    }
   ],
   "source": [
    "# Change the time column to datetime\n",
    "data['Time'] = pd.to_datetime(data['Time']).dt.hour\n",
    "data.head()"
   ]
  },
  {
   "cell_type": "markdown",
   "id": "f5ccf485",
   "metadata": {},
   "source": [
    "Finally we will, fill the Null values with a word that could be used with some meaning:"
   ]
  },
  {
   "cell_type": "code",
   "execution_count": 5,
   "id": "24fee9b3",
   "metadata": {},
   "outputs": [
    {
     "data": {
      "text/html": [
       "<div>\n",
       "<style scoped>\n",
       "    .dataframe tbody tr th:only-of-type {\n",
       "        vertical-align: middle;\n",
       "    }\n",
       "\n",
       "    .dataframe tbody tr th {\n",
       "        vertical-align: top;\n",
       "    }\n",
       "\n",
       "    .dataframe thead th {\n",
       "        text-align: right;\n",
       "    }\n",
       "</style>\n",
       "<table border=\"1\" class=\"dataframe\">\n",
       "  <thead>\n",
       "    <tr style=\"text-align: right;\">\n",
       "      <th></th>\n",
       "      <th>User</th>\n",
       "      <th>Card</th>\n",
       "      <th>Year</th>\n",
       "      <th>Month</th>\n",
       "      <th>Day</th>\n",
       "      <th>Time</th>\n",
       "      <th>Amount</th>\n",
       "      <th>Use Chip</th>\n",
       "      <th>Merchant Name</th>\n",
       "      <th>Merchant City</th>\n",
       "      <th>Merchant State</th>\n",
       "      <th>Zip</th>\n",
       "      <th>MCC</th>\n",
       "      <th>Errors?</th>\n",
       "      <th>Is Fraud?</th>\n",
       "    </tr>\n",
       "  </thead>\n",
       "  <tbody>\n",
       "    <tr>\n",
       "      <th>0</th>\n",
       "      <td>0</td>\n",
       "      <td>0</td>\n",
       "      <td>2002</td>\n",
       "      <td>9</td>\n",
       "      <td>1</td>\n",
       "      <td>6</td>\n",
       "      <td>134.09</td>\n",
       "      <td>Swipe Transaction</td>\n",
       "      <td>3527213246127876953</td>\n",
       "      <td>La Verne</td>\n",
       "      <td>CA</td>\n",
       "      <td>91750.0</td>\n",
       "      <td>5300</td>\n",
       "      <td>none</td>\n",
       "      <td>No</td>\n",
       "    </tr>\n",
       "    <tr>\n",
       "      <th>1</th>\n",
       "      <td>0</td>\n",
       "      <td>0</td>\n",
       "      <td>2002</td>\n",
       "      <td>9</td>\n",
       "      <td>1</td>\n",
       "      <td>6</td>\n",
       "      <td>38.48</td>\n",
       "      <td>Swipe Transaction</td>\n",
       "      <td>-727612092139916043</td>\n",
       "      <td>Monterey Park</td>\n",
       "      <td>CA</td>\n",
       "      <td>91754.0</td>\n",
       "      <td>5411</td>\n",
       "      <td>none</td>\n",
       "      <td>No</td>\n",
       "    </tr>\n",
       "    <tr>\n",
       "      <th>2</th>\n",
       "      <td>0</td>\n",
       "      <td>0</td>\n",
       "      <td>2002</td>\n",
       "      <td>9</td>\n",
       "      <td>2</td>\n",
       "      <td>6</td>\n",
       "      <td>120.34</td>\n",
       "      <td>Swipe Transaction</td>\n",
       "      <td>-727612092139916043</td>\n",
       "      <td>Monterey Park</td>\n",
       "      <td>CA</td>\n",
       "      <td>91754.0</td>\n",
       "      <td>5411</td>\n",
       "      <td>none</td>\n",
       "      <td>No</td>\n",
       "    </tr>\n",
       "    <tr>\n",
       "      <th>3</th>\n",
       "      <td>0</td>\n",
       "      <td>0</td>\n",
       "      <td>2002</td>\n",
       "      <td>9</td>\n",
       "      <td>2</td>\n",
       "      <td>17</td>\n",
       "      <td>128.95</td>\n",
       "      <td>Swipe Transaction</td>\n",
       "      <td>3414527459579106770</td>\n",
       "      <td>Monterey Park</td>\n",
       "      <td>CA</td>\n",
       "      <td>91754.0</td>\n",
       "      <td>5651</td>\n",
       "      <td>none</td>\n",
       "      <td>No</td>\n",
       "    </tr>\n",
       "    <tr>\n",
       "      <th>4</th>\n",
       "      <td>0</td>\n",
       "      <td>0</td>\n",
       "      <td>2002</td>\n",
       "      <td>9</td>\n",
       "      <td>3</td>\n",
       "      <td>6</td>\n",
       "      <td>104.71</td>\n",
       "      <td>Swipe Transaction</td>\n",
       "      <td>5817218446178736267</td>\n",
       "      <td>La Verne</td>\n",
       "      <td>CA</td>\n",
       "      <td>91750.0</td>\n",
       "      <td>5912</td>\n",
       "      <td>none</td>\n",
       "      <td>No</td>\n",
       "    </tr>\n",
       "  </tbody>\n",
       "</table>\n",
       "</div>"
      ],
      "text/plain": [
       "   User  Card  Year  Month  Day  Time  Amount           Use Chip  \\\n",
       "0     0     0  2002      9    1     6  134.09  Swipe Transaction   \n",
       "1     0     0  2002      9    1     6   38.48  Swipe Transaction   \n",
       "2     0     0  2002      9    2     6  120.34  Swipe Transaction   \n",
       "3     0     0  2002      9    2    17  128.95  Swipe Transaction   \n",
       "4     0     0  2002      9    3     6  104.71  Swipe Transaction   \n",
       "\n",
       "         Merchant Name  Merchant City Merchant State      Zip   MCC Errors?  \\\n",
       "0  3527213246127876953       La Verne             CA  91750.0  5300    none   \n",
       "1  -727612092139916043  Monterey Park             CA  91754.0  5411    none   \n",
       "2  -727612092139916043  Monterey Park             CA  91754.0  5411    none   \n",
       "3  3414527459579106770  Monterey Park             CA  91754.0  5651    none   \n",
       "4  5817218446178736267       La Verne             CA  91750.0  5912    none   \n",
       "\n",
       "  Is Fraud?  \n",
       "0        No  \n",
       "1        No  \n",
       "2        No  \n",
       "3        No  \n",
       "4        No  "
      ]
     },
     "execution_count": 5,
     "metadata": {},
     "output_type": "execute_result"
    }
   ],
   "source": [
    "# Fill null values with word \"none\"\n",
    "data.fillna('none', inplace = True)\n",
    "data.head()"
   ]
  },
  {
   "cell_type": "markdown",
   "id": "48eabc90",
   "metadata": {},
   "source": [
    "## 3. Exploratory Analysis 1: Proportion Analysis<a id='ProportionAnalysis'></a>"
   ]
  },
  {
   "cell_type": "markdown",
   "id": "897e4d9a",
   "metadata": {},
   "source": [
    "It is likely that our dataset is unbalanced. I that case, we will have to downsample or upsample some parts of our set. Hence, we need to know different proportions and quantities that will be useful in future analysis."
   ]
  },
  {
   "cell_type": "code",
   "execution_count": 6,
   "id": "dd14f1da",
   "metadata": {},
   "outputs": [],
   "source": [
    "# Create some Sub-samples for facilitating EDA\n",
    "frauds = data[data['Is Fraud?'] == 'Yes']\n",
    "fors = data[np.logical_and(file['Zip'].isnull(), np.logical_not(file['Merchant State'].isnull()))]\n",
    "online = data[np.logical_and(file['Zip'].isnull(), np.logical_not(file['Merchant State'].isnull()))]\n",
    "nofrauds = data[data['Is Fraud?'] == 'No']"
   ]
  },
  {
   "cell_type": "code",
   "execution_count": 7,
   "id": "b0e8e29d",
   "metadata": {},
   "outputs": [],
   "source": [
    "# identify online, foreign and local frauds\n",
    "fraudsonline = frauds[np.logical_and(frauds['Zip'].isnull(), frauds['Merchant State'].isnull())]\n",
    "fraudsforeign = frauds[np.logical_and(frauds['Zip'].isnull(), frauds['Merchant State'].notnull())]\n",
    "fraudslocal = frauds[np.logical_and(frauds['Zip'].notnull(), frauds['Merchant State'].notnull())]"
   ]
  },
  {
   "cell_type": "code",
   "execution_count": 10,
   "id": "35132d82",
   "metadata": {},
   "outputs": [],
   "source": [
    "# Mark foreign cities as \"For\" and local cities as \"Loc\"\n",
    "fraudsforeign['Merchant City'] = 'Foreign'\n",
    "fraudslocal['Merchant City']  = 'Local'"
   ]
  },
  {
   "cell_type": "code",
   "execution_count": 11,
   "id": "d754cafb",
   "metadata": {},
   "outputs": [
    {
     "data": {
      "text/html": [
       "<div>\n",
       "<style scoped>\n",
       "    .dataframe tbody tr th:only-of-type {\n",
       "        vertical-align: middle;\n",
       "    }\n",
       "\n",
       "    .dataframe tbody tr th {\n",
       "        vertical-align: top;\n",
       "    }\n",
       "\n",
       "    .dataframe thead th {\n",
       "        text-align: right;\n",
       "    }\n",
       "</style>\n",
       "<table border=\"1\" class=\"dataframe\">\n",
       "  <thead>\n",
       "    <tr style=\"text-align: right;\">\n",
       "      <th></th>\n",
       "      <th>User</th>\n",
       "      <th>Card</th>\n",
       "      <th>Year</th>\n",
       "      <th>Month</th>\n",
       "      <th>Day</th>\n",
       "      <th>Time</th>\n",
       "      <th>Amount</th>\n",
       "      <th>Use Chip</th>\n",
       "      <th>Merchant Name</th>\n",
       "      <th>Merchant City</th>\n",
       "      <th>Merchant State</th>\n",
       "      <th>Zip</th>\n",
       "      <th>MCC</th>\n",
       "      <th>Errors?</th>\n",
       "      <th>Is Fraud?</th>\n",
       "    </tr>\n",
       "  </thead>\n",
       "  <tbody>\n",
       "    <tr>\n",
       "      <th>28499</th>\n",
       "      <td>1895</td>\n",
       "      <td>2</td>\n",
       "      <td>2007</td>\n",
       "      <td>9</td>\n",
       "      <td>28</td>\n",
       "      <td>10</td>\n",
       "      <td>52.15</td>\n",
       "      <td>Swipe Transaction</td>\n",
       "      <td>-4878091375138630806</td>\n",
       "      <td>Local</td>\n",
       "      <td>IA</td>\n",
       "      <td>52402.0</td>\n",
       "      <td>5921</td>\n",
       "      <td>none</td>\n",
       "      <td>Yes</td>\n",
       "    </tr>\n",
       "    <tr>\n",
       "      <th>21405</th>\n",
       "      <td>1423</td>\n",
       "      <td>3</td>\n",
       "      <td>2007</td>\n",
       "      <td>10</td>\n",
       "      <td>13</td>\n",
       "      <td>10</td>\n",
       "      <td>28.54</td>\n",
       "      <td>Online Transaction</td>\n",
       "      <td>-3739862438923451178</td>\n",
       "      <td>Local</td>\n",
       "      <td>none</td>\n",
       "      <td>none</td>\n",
       "      <td>7832</td>\n",
       "      <td>none</td>\n",
       "      <td>Yes</td>\n",
       "    </tr>\n",
       "    <tr>\n",
       "      <th>6304</th>\n",
       "      <td>465</td>\n",
       "      <td>0</td>\n",
       "      <td>2007</td>\n",
       "      <td>11</td>\n",
       "      <td>24</td>\n",
       "      <td>9</td>\n",
       "      <td>24.95</td>\n",
       "      <td>Online Transaction</td>\n",
       "      <td>7035602569409149834</td>\n",
       "      <td>Local</td>\n",
       "      <td>none</td>\n",
       "      <td>none</td>\n",
       "      <td>5311</td>\n",
       "      <td>none</td>\n",
       "      <td>Yes</td>\n",
       "    </tr>\n",
       "    <tr>\n",
       "      <th>25329</th>\n",
       "      <td>1683</td>\n",
       "      <td>2</td>\n",
       "      <td>2016</td>\n",
       "      <td>5</td>\n",
       "      <td>31</td>\n",
       "      <td>12</td>\n",
       "      <td>106.11</td>\n",
       "      <td>Swipe Transaction</td>\n",
       "      <td>-4649849266203844449</td>\n",
       "      <td>Local</td>\n",
       "      <td>NY</td>\n",
       "      <td>10502.0</td>\n",
       "      <td>5411</td>\n",
       "      <td>none</td>\n",
       "      <td>Yes</td>\n",
       "    </tr>\n",
       "    <tr>\n",
       "      <th>20943</th>\n",
       "      <td>1399</td>\n",
       "      <td>0</td>\n",
       "      <td>2010</td>\n",
       "      <td>7</td>\n",
       "      <td>28</td>\n",
       "      <td>7</td>\n",
       "      <td>-233.00</td>\n",
       "      <td>Online Transaction</td>\n",
       "      <td>-8566951830324093739</td>\n",
       "      <td>Local</td>\n",
       "      <td>none</td>\n",
       "      <td>none</td>\n",
       "      <td>3640</td>\n",
       "      <td>none</td>\n",
       "      <td>Yes</td>\n",
       "    </tr>\n",
       "  </tbody>\n",
       "</table>\n",
       "</div>"
      ],
      "text/plain": [
       "       User  Card  Year  Month  Day  Time  Amount            Use Chip  \\\n",
       "28499  1895     2  2007      9   28    10   52.15   Swipe Transaction   \n",
       "21405  1423     3  2007     10   13    10   28.54  Online Transaction   \n",
       "6304    465     0  2007     11   24     9   24.95  Online Transaction   \n",
       "25329  1683     2  2016      5   31    12  106.11   Swipe Transaction   \n",
       "20943  1399     0  2010      7   28     7 -233.00  Online Transaction   \n",
       "\n",
       "             Merchant Name Merchant City Merchant State      Zip   MCC  \\\n",
       "28499 -4878091375138630806         Local             IA  52402.0  5921   \n",
       "21405 -3739862438923451178         Local           none     none  7832   \n",
       "6304   7035602569409149834         Local           none     none  5311   \n",
       "25329 -4649849266203844449         Local             NY  10502.0  5411   \n",
       "20943 -8566951830324093739         Local           none     none  3640   \n",
       "\n",
       "      Errors? Is Fraud?  \n",
       "28499    none       Yes  \n",
       "21405    none       Yes  \n",
       "6304     none       Yes  \n",
       "25329    none       Yes  \n",
       "20943    none       Yes  "
      ]
     },
     "execution_count": 11,
     "metadata": {},
     "output_type": "execute_result"
    }
   ],
   "source": [
    "# Concatenate three types of fraud (Online, foreign and local)\n",
    "frauds2 = pd.concat([fraudsonline, fraudsforeign, fraudslocal], ignore_index=True)\n",
    "frauds2.sample(5)"
   ]
  },
  {
   "cell_type": "markdown",
   "id": "46f7e632",
   "metadata": {},
   "source": [
    "### 3.1 Total number of elements in our sample"
   ]
  },
  {
   "cell_type": "code",
   "execution_count": 12,
   "id": "fd8fa819",
   "metadata": {},
   "outputs": [
    {
     "data": {
      "text/plain": [
       "24386900"
      ]
     },
     "execution_count": 12,
     "metadata": {},
     "output_type": "execute_result"
    }
   ],
   "source": [
    "# Compute number of datapoints\n",
    "Total = data['Year'].count()\n",
    "Total"
   ]
  },
  {
   "cell_type": "markdown",
   "id": "338b1730",
   "metadata": {},
   "source": [
    "### 3.2 Number of Frauds"
   ]
  },
  {
   "cell_type": "markdown",
   "id": "2beb582b",
   "metadata": {},
   "source": [
    "__Total number of Frauds__"
   ]
  },
  {
   "cell_type": "markdown",
   "id": "0898abcd",
   "metadata": {},
   "source": [
    "Before modelling, it is important to know the proportion of some specific datasets inside our table. To begin with, we must know how many frauds are registered:"
   ]
  },
  {
   "cell_type": "code",
   "execution_count": 13,
   "id": "bfa2277f",
   "metadata": {},
   "outputs": [
    {
     "data": {
      "text/plain": [
       "29757"
      ]
     },
     "execution_count": 13,
     "metadata": {},
     "output_type": "execute_result"
    }
   ],
   "source": [
    "# Number of frauds inside our table\n",
    "Nfrauds = data[data['Is Fraud?']=='Yes']['Is Fraud?'].count()\n",
    "Nfrauds"
   ]
  },
  {
   "cell_type": "code",
   "execution_count": 14,
   "id": "59c4b830",
   "metadata": {},
   "outputs": [
    {
     "data": {
      "text/plain": [
       "0.0012202042900081602"
      ]
     },
     "execution_count": 14,
     "metadata": {},
     "output_type": "execute_result"
    }
   ],
   "source": [
    "# Proportion of frauds inside our table\n",
    "Pfrauds = (data[data['Is Fraud?'] == 'Yes']['Is Fraud?'].count()) / data['Is Fraud?'].count()\n",
    "Pfrauds"
   ]
  },
  {
   "cell_type": "markdown",
   "id": "db8461cd",
   "metadata": {},
   "source": [
    "As we can see, only 0.12% of our datapoints corresponds to a fraud. Hence, Any machine learning model will need to downsample the No-fraud set in order for us to have better chances to have a good predicting model."
   ]
  },
  {
   "cell_type": "markdown",
   "id": "ffbe5709",
   "metadata": {},
   "source": [
    "__Number of foreign Frauds__"
   ]
  },
  {
   "cell_type": "markdown",
   "id": "be9bff1c",
   "metadata": {},
   "source": [
    "Considerig only the number of frauds previously computed, we can determine the number of foreign frauds:"
   ]
  },
  {
   "cell_type": "code",
   "execution_count": 15,
   "id": "8a894684",
   "metadata": {},
   "outputs": [
    {
     "data": {
      "text/plain": [
       "6503"
      ]
     },
     "execution_count": 15,
     "metadata": {},
     "output_type": "execute_result"
    }
   ],
   "source": [
    "NFfrauds = frauds[np.logical_and(frauds['Zip'] == 'none', frauds['Merchant State'] != 'none')]['Merchant City'].count()\n",
    "NFfrauds"
   ]
  },
  {
   "cell_type": "code",
   "execution_count": 16,
   "id": "f7cc1170",
   "metadata": {},
   "outputs": [
    {
     "data": {
      "text/plain": [
       "0.2185368148670901"
      ]
     },
     "execution_count": 16,
     "metadata": {},
     "output_type": "execute_result"
    }
   ],
   "source": [
    "PFfrauds = NFfrauds / Nfrauds\n",
    "PFfrauds"
   ]
  },
  {
   "cell_type": "markdown",
   "id": "e6a77b89",
   "metadata": {},
   "source": [
    "We can see that nearly 22% of frauds are commited on other countries."
   ]
  },
  {
   "cell_type": "markdown",
   "id": "d3d8ca35",
   "metadata": {},
   "source": [
    "__Number of online Frauds__"
   ]
  },
  {
   "cell_type": "code",
   "execution_count": 17,
   "id": "937ea7a4",
   "metadata": {},
   "outputs": [
    {
     "data": {
      "text/plain": [
       "18349"
      ]
     },
     "execution_count": 17,
     "metadata": {},
     "output_type": "execute_result"
    }
   ],
   "source": [
    "NOfrauds = frauds[np.logical_and(frauds['Zip'] == 'none', frauds['Merchant State'] == 'none')]['Merchant City'].count()\n",
    "NOfrauds"
   ]
  },
  {
   "cell_type": "code",
   "execution_count": 18,
   "id": "14d7bd7d",
   "metadata": {},
   "outputs": [
    {
     "data": {
      "text/plain": [
       "0.6166280202977451"
      ]
     },
     "execution_count": 18,
     "metadata": {},
     "output_type": "execute_result"
    }
   ],
   "source": [
    "POfrauds = NOfrauds / Nfrauds\n",
    "POfrauds"
   ]
  },
  {
   "cell_type": "markdown",
   "id": "92cd3d86",
   "metadata": {},
   "source": [
    "More than half the frauds are commited online."
   ]
  },
  {
   "cell_type": "markdown",
   "id": "70f8e221",
   "metadata": {},
   "source": [
    "__Number of local frauds__"
   ]
  },
  {
   "cell_type": "code",
   "execution_count": 19,
   "id": "4194f458",
   "metadata": {},
   "outputs": [
    {
     "data": {
      "text/plain": [
       "4905"
      ]
     },
     "execution_count": 19,
     "metadata": {},
     "output_type": "execute_result"
    }
   ],
   "source": [
    "NLfrauds = frauds[np.logical_and(frauds['Zip'] != 'none', frauds['Merchant State'] != 'none')]['Merchant City'].count()\n",
    "NLfrauds"
   ]
  },
  {
   "cell_type": "code",
   "execution_count": 20,
   "id": "12e8a439",
   "metadata": {},
   "outputs": [
    {
     "data": {
      "text/plain": [
       "0.16483516483516483"
      ]
     },
     "execution_count": 20,
     "metadata": {},
     "output_type": "execute_result"
    }
   ],
   "source": [
    "PLfrauds = NLfrauds / Nfrauds\n",
    "PLfrauds"
   ]
  },
  {
   "cell_type": "markdown",
   "id": "dbda019f",
   "metadata": {},
   "source": [
    "### 3.3  Number of Foreign datapoints"
   ]
  },
  {
   "cell_type": "markdown",
   "id": "e3591948",
   "metadata": {},
   "source": [
    "Considering that \"foreign datapoints\" do have null entries only in the \"Zip\" column, we will count how many rows do we have in this particular situation:"
   ]
  },
  {
   "cell_type": "code",
   "execution_count": 21,
   "id": "7612c2b4",
   "metadata": {},
   "outputs": [
    {
     "data": {
      "text/plain": [
       "157314"
      ]
     },
     "execution_count": 21,
     "metadata": {},
     "output_type": "execute_result"
    }
   ],
   "source": [
    "# Count number of foreign transactions in dataset\n",
    "Nforeign = data[np.logical_and(data['Zip'] == 'none', data['Merchant State'] != 'none')]['Merchant City'].count()\n",
    "Nforeign"
   ]
  },
  {
   "cell_type": "code",
   "execution_count": 22,
   "id": "96bd0237",
   "metadata": {},
   "outputs": [
    {
     "data": {
      "text/plain": [
       "0.006450758398976499"
      ]
     },
     "execution_count": 22,
     "metadata": {},
     "output_type": "execute_result"
    }
   ],
   "source": [
    "# Count proportion of foreign transacctions in dataset\n",
    "Pforeign = Nforeign / Total\n",
    "Pforeign"
   ]
  },
  {
   "cell_type": "markdown",
   "id": "3f28fdf5",
   "metadata": {},
   "source": [
    "Barely 0.6% of our dataset is constituted from foreign transactions"
   ]
  },
  {
   "cell_type": "markdown",
   "id": "d58e1b76",
   "metadata": {},
   "source": [
    "### 3.4  Number of online transactions"
   ]
  },
  {
   "cell_type": "markdown",
   "id": "a1a337e4",
   "metadata": {},
   "source": [
    "It is also important to know the number of online transactions that are registered on this dataset."
   ]
  },
  {
   "cell_type": "code",
   "execution_count": 23,
   "id": "e8dba1ab",
   "metadata": {},
   "outputs": [
    {
     "data": {
      "text/plain": [
       "2720821"
      ]
     },
     "execution_count": 23,
     "metadata": {},
     "output_type": "execute_result"
    }
   ],
   "source": [
    "# Count number of online transactions\n",
    "Nonline = data[data['Merchant City'] == 'ONLINE']['Merchant City'].count()\n",
    "Nonline"
   ]
  },
  {
   "cell_type": "code",
   "execution_count": 24,
   "id": "fe4c77ce",
   "metadata": {},
   "outputs": [
    {
     "data": {
      "text/plain": [
       "0.11156895710401896"
      ]
     },
     "execution_count": 24,
     "metadata": {},
     "output_type": "execute_result"
    }
   ],
   "source": [
    "# Count proportion of online transactions\n",
    "Ponline = Nonline / Total\n",
    "Ponline"
   ]
  },
  {
   "cell_type": "markdown",
   "id": "21e67efb",
   "metadata": {},
   "source": [
    "We find that 11.16% of our datapoints correspond to online transactions."
   ]
  },
  {
   "cell_type": "markdown",
   "id": "ff559284",
   "metadata": {},
   "source": [
    "### 3.5  Number of \"No - frauds\""
   ]
  },
  {
   "cell_type": "markdown",
   "id": "569ec3f0",
   "metadata": {},
   "source": [
    "It is also important to analyze the transactions where no fraud was commited. It would be interesting to compare the proportion of local, foreign and online transactions in either fraud and clean transactions."
   ]
  },
  {
   "cell_type": "code",
   "execution_count": 25,
   "id": "2c7fa3e8",
   "metadata": {},
   "outputs": [
    {
     "data": {
      "text/plain": [
       "24357143"
      ]
     },
     "execution_count": 25,
     "metadata": {},
     "output_type": "execute_result"
    }
   ],
   "source": [
    "Nnofrauds = Total - Nfrauds\n",
    "Nnofrauds"
   ]
  },
  {
   "cell_type": "markdown",
   "id": "8aa80653",
   "metadata": {},
   "source": [
    "__Clean foreign transactions__"
   ]
  },
  {
   "cell_type": "code",
   "execution_count": 26,
   "id": "14dbf8ae",
   "metadata": {},
   "outputs": [
    {
     "data": {
      "text/plain": [
       "150811"
      ]
     },
     "execution_count": 26,
     "metadata": {},
     "output_type": "execute_result"
    }
   ],
   "source": [
    "NFnofrauds = nofrauds[np.logical_and(nofrauds['Zip'] == 'none', nofrauds['Merchant State'] != 'none')]['Merchant City'].count()\n",
    "NFnofrauds"
   ]
  },
  {
   "cell_type": "code",
   "execution_count": 27,
   "id": "4411ca9b",
   "metadata": {},
   "outputs": [
    {
     "data": {
      "text/plain": [
       "0.006191653922629596"
      ]
     },
     "execution_count": 27,
     "metadata": {},
     "output_type": "execute_result"
    }
   ],
   "source": [
    "PFnofrauds = NFnofrauds / Nnofrauds\n",
    "PFnofrauds"
   ]
  },
  {
   "cell_type": "markdown",
   "id": "5a27b85f",
   "metadata": {},
   "source": [
    "It is interesting the comparison: Whereas 21.85% of frauds were commited in other countries, nearly 0.62% of clean transactions took place in foreign cities."
   ]
  },
  {
   "cell_type": "markdown",
   "id": "c87d1593",
   "metadata": {},
   "source": [
    "__Clean online transactions__"
   ]
  },
  {
   "cell_type": "code",
   "execution_count": 28,
   "id": "70ee1bf1",
   "metadata": {},
   "outputs": [
    {
     "data": {
      "text/plain": [
       "2702472"
      ]
     },
     "execution_count": 28,
     "metadata": {},
     "output_type": "execute_result"
    }
   ],
   "source": [
    "NOnofrauds = nofrauds[np.logical_and(nofrauds['Zip'] == 'none', nofrauds['Merchant State'] == 'none')]['Merchant City'].count()\n",
    "NOnofrauds"
   ]
  },
  {
   "cell_type": "code",
   "execution_count": 34,
   "id": "f9cc89c5",
   "metadata": {},
   "outputs": [
    {
     "data": {
      "text/plain": [
       "0.11095192896802387"
      ]
     },
     "execution_count": 34,
     "metadata": {},
     "output_type": "execute_result"
    }
   ],
   "source": [
    "POnofrauds = NOnofrauds / Nnofrauds\n",
    "POnofrauds"
   ]
  },
  {
   "cell_type": "markdown",
   "id": "cadfc23b",
   "metadata": {},
   "source": [
    "Whereas 11.09 of clean transactions took place online, we can see that online frauds were up 61.66% of the total of frauds."
   ]
  },
  {
   "cell_type": "markdown",
   "id": "84fce87b",
   "metadata": {},
   "source": [
    "__Clean local transactions__"
   ]
  },
  {
   "cell_type": "code",
   "execution_count": 29,
   "id": "a97a7df5",
   "metadata": {},
   "outputs": [
    {
     "data": {
      "text/plain": [
       "21503860"
      ]
     },
     "execution_count": 29,
     "metadata": {},
     "output_type": "execute_result"
    }
   ],
   "source": [
    "NLnofrauds = nofrauds[np.logical_and(nofrauds['Zip'] != 'none', nofrauds['Merchant State'] != 'none')]['Merchant City'].count()\n",
    "NLnofrauds"
   ]
  },
  {
   "cell_type": "code",
   "execution_count": 30,
   "id": "736bfbc5",
   "metadata": {},
   "outputs": [
    {
     "data": {
      "text/plain": [
       "0.8828564171093465"
      ]
     },
     "execution_count": 30,
     "metadata": {},
     "output_type": "execute_result"
    }
   ],
   "source": [
    "PLnofrauds = NLnofrauds / Nnofrauds\n",
    "PLnofrauds"
   ]
  },
  {
   "cell_type": "markdown",
   "id": "3afed0fb",
   "metadata": {},
   "source": [
    "We see that 88.29% of clean transactions were taken in a local city (inside US), comparing with the proportion of local frauds we see that local frauds were around 16.48%"
   ]
  },
  {
   "cell_type": "markdown",
   "id": "18043ed5",
   "metadata": {},
   "source": [
    "## 4.  Exploratory Analysis 2: Plot Analysis<a id='PlotAnalysis'></a>"
   ]
  },
  {
   "cell_type": "markdown",
   "id": "364a25e9",
   "metadata": {},
   "source": [
    "__Frauds attributes__"
   ]
  },
  {
   "cell_type": "markdown",
   "id": "4652136d",
   "metadata": {},
   "source": [
    "*  __Place or type:__ In the following plot, we can see that the number of online frauds is greater than the double of frauds commited either in other countries or inside the US. At the same time, we can see that It is in foreign countries where the bigger of number of frauds were registered."
   ]
  },
  {
   "cell_type": "code",
   "execution_count": 105,
   "id": "38a3ae27",
   "metadata": {
    "scrolled": true
   },
   "outputs": [
    {
     "data": {
      "image/png": "[encoded data removed]",
      "text/plain": [
       "<Figure size 360x360 with 1 Axes>"
      ]
     },
     "metadata": {
      "needs_background": "light"
     },
     "output_type": "display_data"
    }
   ],
   "source": [
    "sns.catplot(x = 'Merchant City', data = frauds2, kind = 'count')\n",
    "plt.show()"
   ]
  },
  {
   "cell_type": "markdown",
   "id": "ea7bbf81",
   "metadata": {},
   "source": [
    "* __Amount of money:__ Considering the place/type of fraud, it is also interesting to know the amount of money of the commited frauds. As we can see in the boxplot below, there are plenty of outliers in the three types of fraud. Moreover, we can see that it is in online frauds where people \"dare\" to make transactions with the greatest amount of money. On the other hand, we can see that most of the frauds are committed for less than 500 dollars."
   ]
  },
  {
   "cell_type": "code",
   "execution_count": 107,
   "id": "958f2a96",
   "metadata": {},
   "outputs": [
    {
     "data": {
      "image/png": "[encoded data removed]",
      "text/plain": [
       "<Figure size 360x360 with 1 Axes>"
      ]
     },
     "metadata": {
      "needs_background": "light"
     },
     "output_type": "display_data"
    }
   ],
   "source": [
    "sns.catplot(x = 'Merchant City', y = 'Amount', data = frauds2, kind = 'box')\n",
    "plt.show()"
   ]
  },
  {
   "cell_type": "markdown",
   "id": "573cf7a9",
   "metadata": {},
   "source": [
    "* __Type of error:__ It is likely that frauds ar associated with a particular type of error. In order to verify that information, we plot the different type of errors. We can see below that the most common associated errrors are \"insufficient balance\", \"Bad CVV\" and \"Bad PIN\"."
   ]
  },
  {
   "cell_type": "code",
   "execution_count": 116,
   "id": "449a8d01",
   "metadata": {},
   "outputs": [
    {
     "data": {
      "image/png": "[encoded data removed]",
      "text/plain": [
       "<Figure size 360x360 with 1 Axes>"
      ]
     },
     "metadata": {
      "needs_background": "light"
     },
     "output_type": "display_data"
    }
   ],
   "source": [
    "sns.catplot(x = 'Errors?', data = frauds2, kind = 'count')\n",
    "plt.xticks(rotation = 90)\n",
    "plt.show()"
   ]
  },
  {
   "cell_type": "markdown",
   "id": "c61a7726",
   "metadata": {},
   "source": [
    "If we hue the previous plot by type of fraud (online, foreign or local) we can see that Bad PIN frauds are committed almost exclusively in local and foreign frauds:"
   ]
  },
  {
   "cell_type": "code",
   "execution_count": 117,
   "id": "17926b32",
   "metadata": {},
   "outputs": [
    {
     "data": {
      "image/png": "[encoded data removed]",
      "text/plain": [
       "<Figure size 437.5x360 with 1 Axes>"
      ]
     },
     "metadata": {
      "needs_background": "light"
     },
     "output_type": "display_data"
    }
   ],
   "source": [
    "sns.catplot(x = 'Errors?', data = frauds2, hue = 'Merchant City', kind = 'count')\n",
    "plt.xticks(rotation = 90)\n",
    "plt.show()"
   ]
  },
  {
   "cell_type": "markdown",
   "id": "711e44be",
   "metadata": {},
   "source": [
    "* __Preferred month for frauds:__ It would also be interesting to see whether there is a particular month in which most of the frauds are committed. In the plot below we can see that there is only a light increase in fraud commitment near the end of the year."
   ]
  },
  {
   "cell_type": "code",
   "execution_count": 118,
   "id": "78a1fa6c",
   "metadata": {},
   "outputs": [
    {
     "data": {
      "image/png": "[encoded data removed]",
      "text/plain": [
       "<Figure size 360x360 with 1 Axes>"
      ]
     },
     "metadata": {
      "needs_background": "light"
     },
     "output_type": "display_data"
    }
   ],
   "source": [
    "sns.catplot(x = 'Month', data = frauds2, kind = 'count')\n",
    "plt.xticks(rotation = 90)\n",
    "plt.show()"
   ]
  },
  {
   "cell_type": "markdown",
   "id": "6c819927",
   "metadata": {},
   "source": [
    "*  __Day__ It is likely that frauds are commited on a specifica day of the month."
   ]
  },
  {
   "cell_type": "code",
   "execution_count": 111,
   "id": "0d6e14f1",
   "metadata": {},
   "outputs": [
    {
     "data": {
      "image/png": "[encoded data removed]",
      "text/plain": [
       "<Figure size 360x360 with 1 Axes>"
      ]
     },
     "metadata": {
      "needs_background": "light"
     },
     "output_type": "display_data"
    }
   ],
   "source": [
    "sns.catplot(x = 'Day', data = frauds2, kind = 'count')\n",
    "plt.xticks(rotation = 90)\n",
    "plt.show()"
   ]
  },
  {
   "cell_type": "markdown",
   "id": "0d43bb42",
   "metadata": {},
   "source": [
    "* __Hour:__ Let us see whether there is a special hour in which frauds are committed."
   ]
  },
  {
   "cell_type": "code",
   "execution_count": 112,
   "id": "e8936709",
   "metadata": {},
   "outputs": [
    {
     "data": {
      "image/png": "[encoded data removed]",
      "text/plain": [
       "<Figure size 360x360 with 1 Axes>"
      ]
     },
     "metadata": {
      "needs_background": "light"
     },
     "output_type": "display_data"
    }
   ],
   "source": [
    "sns.catplot(x = 'Time', data = frauds2, kind = 'count')\n",
    "plt.xticks(rotation = 90)\n",
    "plt.show()"
   ]
  },
  {
   "cell_type": "markdown",
   "id": "c4cbb258",
   "metadata": {},
   "source": [
    "It seems that preferred hour for frauds commitment is around 12:00 pm. This could either one particular attribute of fraud commitment or one attribute of all credit card transactions."
   ]
  },
  {
   "cell_type": "markdown",
   "id": "df6ada54",
   "metadata": {},
   "source": [
    "* __Use of Chip:__ We must also see whether one specific use of the credit card was privileged over the others when a fraud was committed:"
   ]
  },
  {
   "cell_type": "code",
   "execution_count": 122,
   "id": "fc3073bf",
   "metadata": {},
   "outputs": [
    {
     "data": {
      "image/png": "[encoded data removed]",
      "text/plain": [
       "<Figure size 488.625x360 with 1 Axes>"
      ]
     },
     "metadata": {
      "needs_background": "light"
     },
     "output_type": "display_data"
    }
   ],
   "source": [
    "sns.catplot(x = 'Merchant City', data = frauds2, hue = 'Use Chip', kind = 'count')\n",
    "plt.show()"
   ]
  },
  {
   "cell_type": "markdown",
   "id": "fc58cfb1",
   "metadata": {},
   "source": [
    "## 5. Preprocessing<a id='Preprocessing'></a>"
   ]
  },
  {
   "cell_type": "markdown",
   "id": "b6fd6816",
   "metadata": {},
   "source": [
    "From the exploratory analysis we can see that our dataset is highly unbalanced. Thus, we will downsample the clean transactions. Still, it is important to consider in this case the proportion of local, foreign and online transactions.\n",
    "\n",
    "There are 29757 frauds; hence the number of clean transactions must be the same but considering the following proportions:\n",
    "\n",
    "* Foreign clean transactions.\n",
    "* Online clean transactions.\n",
    "* Local clean transactions."
   ]
  },
  {
   "cell_type": "code",
   "execution_count": 31,
   "id": "4f5aa3d5",
   "metadata": {},
   "outputs": [],
   "source": [
    "np.random.seed(123)\n",
    "\n",
    "# Sample of foreign no frauds   ---size = PFnofrauds * Nfrauds----\n",
    "fornofrauds = nofrauds[np.logical_and(nofrauds['Zip'] == 'none', nofrauds['Merchant State'] != 'none')].reset_index(drop = True)\n",
    "sfornf = fornofrauds.iloc[np.random.choice(fornofrauds.index, replace = False, size = (PFnofrauds*Nfrauds).astype('int32')),: ]"
   ]
  },
  {
   "cell_type": "code",
   "execution_count": 32,
   "id": "8669812d",
   "metadata": {},
   "outputs": [],
   "source": [
    "np.random.seed(123)\n",
    "\n",
    "# Sample of local no frauds    ---size = PLnofrauds * Nfrauds ----\n",
    "locnofrauds = nofrauds[np.logical_and(nofrauds['Zip'] != 'none', nofrauds['Merchant State'] != 'none')].reset_index(drop = True)\n",
    "slocnf = locnofrauds.iloc[np.random.choice(locnofrauds.index, replace = False, size = (PLnofrauds * Nfrauds).astype('int32')),:]"
   ]
  },
  {
   "cell_type": "code",
   "execution_count": 35,
   "id": "ecb4123b",
   "metadata": {},
   "outputs": [],
   "source": [
    "np.random.seed(123)\n",
    "\n",
    "# Sample of online no frauds  ---- size = POnofrauds * Nfrauds ---\n",
    "onlnofrauds = nofrauds[np.logical_and(nofrauds['Zip'] == 'none', nofrauds['Merchant State'] == 'none')].reset_index(drop = True)\n",
    "\n",
    "sonlnf = onlnofrauds.iloc[np.random.choice(onlnofrauds.index, replace = False, size = (POnofrauds*Nfrauds).astype('int32')+1)]"
   ]
  },
  {
   "cell_type": "code",
   "execution_count": 38,
   "id": "f30bd470",
   "metadata": {},
   "outputs": [],
   "source": [
    "# Create a copy of dataset with only three merchant cities: foreign, local and online\n",
    "sfornf2 = sfornf.copy()\n",
    "sfornf['Merchant City'] = 'Foreign'\n",
    "slocnf2 = slocnf.copy()\n",
    "slocnf['Merchant City'] = 'Local'"
   ]
  },
  {
   "cell_type": "code",
   "execution_count": 40,
   "id": "3a8efe2b",
   "metadata": {},
   "outputs": [
    {
     "data": {
      "text/html": [
       "<div>\n",
       "<style scoped>\n",
       "    .dataframe tbody tr th:only-of-type {\n",
       "        vertical-align: middle;\n",
       "    }\n",
       "\n",
       "    .dataframe tbody tr th {\n",
       "        vertical-align: top;\n",
       "    }\n",
       "\n",
       "    .dataframe thead th {\n",
       "        text-align: right;\n",
       "    }\n",
       "</style>\n",
       "<table border=\"1\" class=\"dataframe\">\n",
       "  <thead>\n",
       "    <tr style=\"text-align: right;\">\n",
       "      <th></th>\n",
       "      <th>User</th>\n",
       "      <th>Card</th>\n",
       "      <th>Year</th>\n",
       "      <th>Month</th>\n",
       "      <th>Day</th>\n",
       "      <th>Time</th>\n",
       "      <th>Amount</th>\n",
       "      <th>Use Chip</th>\n",
       "      <th>Merchant Name</th>\n",
       "      <th>Merchant City</th>\n",
       "      <th>Merchant State</th>\n",
       "      <th>Zip</th>\n",
       "      <th>MCC</th>\n",
       "      <th>Errors?</th>\n",
       "      <th>Is Fraud?</th>\n",
       "    </tr>\n",
       "  </thead>\n",
       "  <tbody>\n",
       "    <tr>\n",
       "      <th>0</th>\n",
       "      <td>615</td>\n",
       "      <td>5</td>\n",
       "      <td>2008</td>\n",
       "      <td>12</td>\n",
       "      <td>18</td>\n",
       "      <td>13</td>\n",
       "      <td>11.11</td>\n",
       "      <td>Swipe Transaction</td>\n",
       "      <td>8438446124682714015</td>\n",
       "      <td>Local</td>\n",
       "      <td>NJ</td>\n",
       "      <td>7731.0</td>\n",
       "      <td>5541</td>\n",
       "      <td>none</td>\n",
       "      <td>Yes</td>\n",
       "    </tr>\n",
       "    <tr>\n",
       "      <th>1</th>\n",
       "      <td>321</td>\n",
       "      <td>3</td>\n",
       "      <td>2010</td>\n",
       "      <td>4</td>\n",
       "      <td>14</td>\n",
       "      <td>7</td>\n",
       "      <td>1.61</td>\n",
       "      <td>Swipe Transaction</td>\n",
       "      <td>-6571010470072147219</td>\n",
       "      <td>Local</td>\n",
       "      <td>ND</td>\n",
       "      <td>58103.0</td>\n",
       "      <td>5499</td>\n",
       "      <td>none</td>\n",
       "      <td>No</td>\n",
       "    </tr>\n",
       "    <tr>\n",
       "      <th>2</th>\n",
       "      <td>1204</td>\n",
       "      <td>0</td>\n",
       "      <td>2018</td>\n",
       "      <td>3</td>\n",
       "      <td>12</td>\n",
       "      <td>13</td>\n",
       "      <td>32.61</td>\n",
       "      <td>Chip Transaction</td>\n",
       "      <td>6051395022895754231</td>\n",
       "      <td>Local</td>\n",
       "      <td>Italy</td>\n",
       "      <td>none</td>\n",
       "      <td>5310</td>\n",
       "      <td>none</td>\n",
       "      <td>Yes</td>\n",
       "    </tr>\n",
       "    <tr>\n",
       "      <th>3</th>\n",
       "      <td>260</td>\n",
       "      <td>3</td>\n",
       "      <td>2015</td>\n",
       "      <td>4</td>\n",
       "      <td>5</td>\n",
       "      <td>10</td>\n",
       "      <td>-92.00</td>\n",
       "      <td>Chip Transaction</td>\n",
       "      <td>-1288082279022882052</td>\n",
       "      <td>Local</td>\n",
       "      <td>NC</td>\n",
       "      <td>27320.0</td>\n",
       "      <td>5499</td>\n",
       "      <td>none</td>\n",
       "      <td>No</td>\n",
       "    </tr>\n",
       "    <tr>\n",
       "      <th>4</th>\n",
       "      <td>490</td>\n",
       "      <td>5</td>\n",
       "      <td>2004</td>\n",
       "      <td>7</td>\n",
       "      <td>25</td>\n",
       "      <td>7</td>\n",
       "      <td>48.03</td>\n",
       "      <td>Swipe Transaction</td>\n",
       "      <td>2027553650310142703</td>\n",
       "      <td>Local</td>\n",
       "      <td>FL</td>\n",
       "      <td>33060.0</td>\n",
       "      <td>5541</td>\n",
       "      <td>none</td>\n",
       "      <td>No</td>\n",
       "    </tr>\n",
       "  </tbody>\n",
       "</table>\n",
       "</div>"
      ],
      "text/plain": [
       "   User  Card  Year  Month  Day  Time  Amount           Use Chip  \\\n",
       "0   615     5  2008     12   18    13   11.11  Swipe Transaction   \n",
       "1   321     3  2010      4   14     7    1.61  Swipe Transaction   \n",
       "2  1204     0  2018      3   12    13   32.61   Chip Transaction   \n",
       "3   260     3  2015      4    5    10  -92.00   Chip Transaction   \n",
       "4   490     5  2004      7   25     7   48.03  Swipe Transaction   \n",
       "\n",
       "         Merchant Name Merchant City Merchant State      Zip   MCC Errors?  \\\n",
       "0  8438446124682714015         Local             NJ   7731.0  5541    none   \n",
       "1 -6571010470072147219         Local             ND  58103.0  5499    none   \n",
       "2  6051395022895754231         Local          Italy     none  5310    none   \n",
       "3 -1288082279022882052         Local             NC  27320.0  5499    none   \n",
       "4  2027553650310142703         Local             FL  33060.0  5541    none   \n",
       "\n",
       "  Is Fraud?  \n",
       "0       Yes  \n",
       "1        No  \n",
       "2       Yes  \n",
       "3        No  \n",
       "4        No  "
      ]
     },
     "execution_count": 40,
     "metadata": {},
     "output_type": "execute_result"
    }
   ],
   "source": [
    "np.random.seed(123)\n",
    "\n",
    "# Concatenate the fraud dataset with no fraud datasets and create permutation of dataset.\n",
    "sample = pd.concat([sfornf, slocnf, sonlnf, frauds2]).reset_index(drop = True)\n",
    "sample = sample.iloc[np.random.permutation(range(len(sample))),:].reset_index(drop = True)\n",
    "sample.head()"
   ]
  },
  {
   "cell_type": "markdown",
   "id": "2f718b46",
   "metadata": {},
   "source": [
    "## 6. Modelling: Decision Tree<a id='ModellingDecisionTree'></a>"
   ]
  },
  {
   "cell_type": "code",
   "execution_count": 54,
   "id": "0a3ccd3b",
   "metadata": {},
   "outputs": [],
   "source": [
    "from sklearn import tree, metrics\n",
    "from sklearn.model_selection import train_test_split\n",
    "\n",
    "from sklearn.model_selection import cross_val_score\n",
    "from sklearn.metrics import confusion_matrix\n",
    "from sklearn.metrics import classification_report\n",
    "\n",
    "from io import StringIO\n",
    "from IPython.display import Image\n",
    "import pydotplus\n",
    "import graphviz"
   ]
  },
  {
   "cell_type": "markdown",
   "id": "ab67653b",
   "metadata": {},
   "source": [
    "### 6.1  Feature Engineerging"
   ]
  },
  {
   "cell_type": "markdown",
   "id": "254f2f92",
   "metadata": {},
   "source": [
    "With the sample we created above, we will get our feature set and our response set. In this case, __we will not standarize any variable__. The only numerical variable in this dataset is in the \"Amount\" column."
   ]
  },
  {
   "cell_type": "code",
   "execution_count": 42,
   "id": "3be9031f",
   "metadata": {},
   "outputs": [
    {
     "data": {
      "text/html": [
       "<div>\n",
       "<style scoped>\n",
       "    .dataframe tbody tr th:only-of-type {\n",
       "        vertical-align: middle;\n",
       "    }\n",
       "\n",
       "    .dataframe tbody tr th {\n",
       "        vertical-align: top;\n",
       "    }\n",
       "\n",
       "    .dataframe thead th {\n",
       "        text-align: right;\n",
       "    }\n",
       "</style>\n",
       "<table border=\"1\" class=\"dataframe\">\n",
       "  <thead>\n",
       "    <tr style=\"text-align: right;\">\n",
       "      <th></th>\n",
       "      <th>Month</th>\n",
       "      <th>Day</th>\n",
       "      <th>Time</th>\n",
       "      <th>Amount</th>\n",
       "      <th>Merchant City</th>\n",
       "      <th>Errors?</th>\n",
       "    </tr>\n",
       "  </thead>\n",
       "  <tbody>\n",
       "    <tr>\n",
       "      <th>0</th>\n",
       "      <td>12</td>\n",
       "      <td>18</td>\n",
       "      <td>13</td>\n",
       "      <td>11.11</td>\n",
       "      <td>Local</td>\n",
       "      <td>none</td>\n",
       "    </tr>\n",
       "    <tr>\n",
       "      <th>1</th>\n",
       "      <td>4</td>\n",
       "      <td>14</td>\n",
       "      <td>7</td>\n",
       "      <td>1.61</td>\n",
       "      <td>Local</td>\n",
       "      <td>none</td>\n",
       "    </tr>\n",
       "    <tr>\n",
       "      <th>2</th>\n",
       "      <td>3</td>\n",
       "      <td>12</td>\n",
       "      <td>13</td>\n",
       "      <td>32.61</td>\n",
       "      <td>Local</td>\n",
       "      <td>none</td>\n",
       "    </tr>\n",
       "    <tr>\n",
       "      <th>3</th>\n",
       "      <td>4</td>\n",
       "      <td>5</td>\n",
       "      <td>10</td>\n",
       "      <td>-92.00</td>\n",
       "      <td>Local</td>\n",
       "      <td>none</td>\n",
       "    </tr>\n",
       "    <tr>\n",
       "      <th>4</th>\n",
       "      <td>7</td>\n",
       "      <td>25</td>\n",
       "      <td>7</td>\n",
       "      <td>48.03</td>\n",
       "      <td>Local</td>\n",
       "      <td>none</td>\n",
       "    </tr>\n",
       "  </tbody>\n",
       "</table>\n",
       "</div>"
      ],
      "text/plain": [
       "   Month  Day  Time  Amount Merchant City Errors?\n",
       "0     12   18    13   11.11         Local    none\n",
       "1      4   14     7    1.61         Local    none\n",
       "2      3   12    13   32.61         Local    none\n",
       "3      4    5    10  -92.00         Local    none\n",
       "4      7   25     7   48.03         Local    none"
      ]
     },
     "execution_count": 42,
     "metadata": {},
     "output_type": "execute_result"
    }
   ],
   "source": [
    "# Choose feature variables\n",
    "# x = sample.drop('Is Fraud?', axis = 1, inplace = False)\n",
    "x = sample[['Month','Day','Time','Amount','Merchant City','Errors?']]\n",
    "x.head()"
   ]
  },
  {
   "cell_type": "code",
   "execution_count": 43,
   "id": "b544841b",
   "metadata": {},
   "outputs": [
    {
     "data": {
      "text/html": [
       "<div>\n",
       "<style scoped>\n",
       "    .dataframe tbody tr th:only-of-type {\n",
       "        vertical-align: middle;\n",
       "    }\n",
       "\n",
       "    .dataframe tbody tr th {\n",
       "        vertical-align: top;\n",
       "    }\n",
       "\n",
       "    .dataframe thead th {\n",
       "        text-align: right;\n",
       "    }\n",
       "</style>\n",
       "<table border=\"1\" class=\"dataframe\">\n",
       "  <thead>\n",
       "    <tr style=\"text-align: right;\">\n",
       "      <th></th>\n",
       "      <th>Is Fraud?</th>\n",
       "    </tr>\n",
       "  </thead>\n",
       "  <tbody>\n",
       "    <tr>\n",
       "      <th>0</th>\n",
       "      <td>Yes</td>\n",
       "    </tr>\n",
       "    <tr>\n",
       "      <th>1</th>\n",
       "      <td>No</td>\n",
       "    </tr>\n",
       "    <tr>\n",
       "      <th>2</th>\n",
       "      <td>Yes</td>\n",
       "    </tr>\n",
       "    <tr>\n",
       "      <th>3</th>\n",
       "      <td>No</td>\n",
       "    </tr>\n",
       "    <tr>\n",
       "      <th>4</th>\n",
       "      <td>No</td>\n",
       "    </tr>\n",
       "  </tbody>\n",
       "</table>\n",
       "</div>"
      ],
      "text/plain": [
       "  Is Fraud?\n",
       "0       Yes\n",
       "1        No\n",
       "2       Yes\n",
       "3        No\n",
       "4        No"
      ]
     },
     "execution_count": 43,
     "metadata": {},
     "output_type": "execute_result"
    }
   ],
   "source": [
    "# Choose labels\n",
    "y = sample[['Is Fraud?']]\n",
    "y.head()"
   ]
  },
  {
   "cell_type": "markdown",
   "id": "eadae94a",
   "metadata": {},
   "source": [
    "Once we have our features, it is important to generate dummy variables for our categorical values:"
   ]
  },
  {
   "cell_type": "code",
   "execution_count": 49,
   "id": "b64c5c23",
   "metadata": {},
   "outputs": [
    {
     "data": {
      "text/html": [
       "<div>\n",
       "<style scoped>\n",
       "    .dataframe tbody tr th:only-of-type {\n",
       "        vertical-align: middle;\n",
       "    }\n",
       "\n",
       "    .dataframe tbody tr th {\n",
       "        vertical-align: top;\n",
       "    }\n",
       "\n",
       "    .dataframe thead th {\n",
       "        text-align: right;\n",
       "    }\n",
       "</style>\n",
       "<table border=\"1\" class=\"dataframe\">\n",
       "  <thead>\n",
       "    <tr style=\"text-align: right;\">\n",
       "      <th></th>\n",
       "      <th>Month</th>\n",
       "      <th>Day</th>\n",
       "      <th>Time</th>\n",
       "      <th>Amount</th>\n",
       "      <th>Merchant City_Local</th>\n",
       "      <th>Merchant City_ONLINE</th>\n",
       "      <th>Errors?_Bad CVV,Insufficient Balance</th>\n",
       "      <th>Errors?_Bad CVV,Technical Glitch</th>\n",
       "      <th>Errors?_Bad Card Number</th>\n",
       "      <th>Errors?_Bad Card Number,Insufficient Balance</th>\n",
       "      <th>...</th>\n",
       "      <th>Errors?_Bad Expiration,Insufficient Balance</th>\n",
       "      <th>Errors?_Bad Expiration,Technical Glitch</th>\n",
       "      <th>Errors?_Bad PIN</th>\n",
       "      <th>Errors?_Bad PIN,Insufficient Balance</th>\n",
       "      <th>Errors?_Bad PIN,Technical Glitch</th>\n",
       "      <th>Errors?_Bad Zipcode</th>\n",
       "      <th>Errors?_Insufficient Balance</th>\n",
       "      <th>Errors?_Insufficient Balance,Technical Glitch</th>\n",
       "      <th>Errors?_Technical Glitch</th>\n",
       "      <th>Errors?_none</th>\n",
       "    </tr>\n",
       "  </thead>\n",
       "  <tbody>\n",
       "    <tr>\n",
       "      <th>0</th>\n",
       "      <td>12</td>\n",
       "      <td>18</td>\n",
       "      <td>13</td>\n",
       "      <td>11.11</td>\n",
       "      <td>1</td>\n",
       "      <td>0</td>\n",
       "      <td>0</td>\n",
       "      <td>0</td>\n",
       "      <td>0</td>\n",
       "      <td>0</td>\n",
       "      <td>...</td>\n",
       "      <td>0</td>\n",
       "      <td>0</td>\n",
       "      <td>0</td>\n",
       "      <td>0</td>\n",
       "      <td>0</td>\n",
       "      <td>0</td>\n",
       "      <td>0</td>\n",
       "      <td>0</td>\n",
       "      <td>0</td>\n",
       "      <td>1</td>\n",
       "    </tr>\n",
       "    <tr>\n",
       "      <th>1</th>\n",
       "      <td>4</td>\n",
       "      <td>14</td>\n",
       "      <td>7</td>\n",
       "      <td>1.61</td>\n",
       "      <td>1</td>\n",
       "      <td>0</td>\n",
       "      <td>0</td>\n",
       "      <td>0</td>\n",
       "      <td>0</td>\n",
       "      <td>0</td>\n",
       "      <td>...</td>\n",
       "      <td>0</td>\n",
       "      <td>0</td>\n",
       "      <td>0</td>\n",
       "      <td>0</td>\n",
       "      <td>0</td>\n",
       "      <td>0</td>\n",
       "      <td>0</td>\n",
       "      <td>0</td>\n",
       "      <td>0</td>\n",
       "      <td>1</td>\n",
       "    </tr>\n",
       "    <tr>\n",
       "      <th>2</th>\n",
       "      <td>3</td>\n",
       "      <td>12</td>\n",
       "      <td>13</td>\n",
       "      <td>32.61</td>\n",
       "      <td>1</td>\n",
       "      <td>0</td>\n",
       "      <td>0</td>\n",
       "      <td>0</td>\n",
       "      <td>0</td>\n",
       "      <td>0</td>\n",
       "      <td>...</td>\n",
       "      <td>0</td>\n",
       "      <td>0</td>\n",
       "      <td>0</td>\n",
       "      <td>0</td>\n",
       "      <td>0</td>\n",
       "      <td>0</td>\n",
       "      <td>0</td>\n",
       "      <td>0</td>\n",
       "      <td>0</td>\n",
       "      <td>1</td>\n",
       "    </tr>\n",
       "    <tr>\n",
       "      <th>3</th>\n",
       "      <td>4</td>\n",
       "      <td>5</td>\n",
       "      <td>10</td>\n",
       "      <td>-92.00</td>\n",
       "      <td>1</td>\n",
       "      <td>0</td>\n",
       "      <td>0</td>\n",
       "      <td>0</td>\n",
       "      <td>0</td>\n",
       "      <td>0</td>\n",
       "      <td>...</td>\n",
       "      <td>0</td>\n",
       "      <td>0</td>\n",
       "      <td>0</td>\n",
       "      <td>0</td>\n",
       "      <td>0</td>\n",
       "      <td>0</td>\n",
       "      <td>0</td>\n",
       "      <td>0</td>\n",
       "      <td>0</td>\n",
       "      <td>1</td>\n",
       "    </tr>\n",
       "    <tr>\n",
       "      <th>4</th>\n",
       "      <td>7</td>\n",
       "      <td>25</td>\n",
       "      <td>7</td>\n",
       "      <td>48.03</td>\n",
       "      <td>1</td>\n",
       "      <td>0</td>\n",
       "      <td>0</td>\n",
       "      <td>0</td>\n",
       "      <td>0</td>\n",
       "      <td>0</td>\n",
       "      <td>...</td>\n",
       "      <td>0</td>\n",
       "      <td>0</td>\n",
       "      <td>0</td>\n",
       "      <td>0</td>\n",
       "      <td>0</td>\n",
       "      <td>0</td>\n",
       "      <td>0</td>\n",
       "      <td>0</td>\n",
       "      <td>0</td>\n",
       "      <td>1</td>\n",
       "    </tr>\n",
       "  </tbody>\n",
       "</table>\n",
       "<p>5 rows × 22 columns</p>\n",
       "</div>"
      ],
      "text/plain": [
       "   Month  Day  Time  Amount  Merchant City_Local  Merchant City_ONLINE  \\\n",
       "0     12   18    13   11.11                    1                     0   \n",
       "1      4   14     7    1.61                    1                     0   \n",
       "2      3   12    13   32.61                    1                     0   \n",
       "3      4    5    10  -92.00                    1                     0   \n",
       "4      7   25     7   48.03                    1                     0   \n",
       "\n",
       "   Errors?_Bad CVV,Insufficient Balance  Errors?_Bad CVV,Technical Glitch  \\\n",
       "0                                     0                                 0   \n",
       "1                                     0                                 0   \n",
       "2                                     0                                 0   \n",
       "3                                     0                                 0   \n",
       "4                                     0                                 0   \n",
       "\n",
       "   Errors?_Bad Card Number  Errors?_Bad Card Number,Insufficient Balance  ...  \\\n",
       "0                        0                                             0  ...   \n",
       "1                        0                                             0  ...   \n",
       "2                        0                                             0  ...   \n",
       "3                        0                                             0  ...   \n",
       "4                        0                                             0  ...   \n",
       "\n",
       "   Errors?_Bad Expiration,Insufficient Balance  \\\n",
       "0                                            0   \n",
       "1                                            0   \n",
       "2                                            0   \n",
       "3                                            0   \n",
       "4                                            0   \n",
       "\n",
       "   Errors?_Bad Expiration,Technical Glitch  Errors?_Bad PIN  \\\n",
       "0                                        0                0   \n",
       "1                                        0                0   \n",
       "2                                        0                0   \n",
       "3                                        0                0   \n",
       "4                                        0                0   \n",
       "\n",
       "   Errors?_Bad PIN,Insufficient Balance  Errors?_Bad PIN,Technical Glitch  \\\n",
       "0                                     0                                 0   \n",
       "1                                     0                                 0   \n",
       "2                                     0                                 0   \n",
       "3                                     0                                 0   \n",
       "4                                     0                                 0   \n",
       "\n",
       "   Errors?_Bad Zipcode  Errors?_Insufficient Balance  \\\n",
       "0                    0                             0   \n",
       "1                    0                             0   \n",
       "2                    0                             0   \n",
       "3                    0                             0   \n",
       "4                    0                             0   \n",
       "\n",
       "   Errors?_Insufficient Balance,Technical Glitch  Errors?_Technical Glitch  \\\n",
       "0                                              0                         0   \n",
       "1                                              0                         0   \n",
       "2                                              0                         0   \n",
       "3                                              0                         0   \n",
       "4                                              0                         0   \n",
       "\n",
       "   Errors?_none  \n",
       "0             1  \n",
       "1             1  \n",
       "2             1  \n",
       "3             1  \n",
       "4             1  \n",
       "\n",
       "[5 rows x 22 columns]"
      ]
     },
     "execution_count": 49,
     "metadata": {},
     "output_type": "execute_result"
    }
   ],
   "source": [
    "# Create dummy variables\n",
    "xd = pd.get_dummies(x,drop_first = True)\n",
    "xd.head()"
   ]
  },
  {
   "cell_type": "markdown",
   "id": "737a9498",
   "metadata": {},
   "source": [
    "We will now create our train set and our test set of variables."
   ]
  },
  {
   "cell_type": "code",
   "execution_count": 50,
   "id": "3655e223",
   "metadata": {},
   "outputs": [],
   "source": [
    "# Create train and test sets with 30% test\n",
    "x_train, x_test, y_train, y_test = train_test_split(xd, y, test_size = 0.3, random_state = 123)"
   ]
  },
  {
   "cell_type": "markdown",
   "id": "23645510",
   "metadata": {},
   "source": [
    "### 6.2  Entropy model - no max_depth"
   ]
  },
  {
   "cell_type": "code",
   "execution_count": 51,
   "id": "710e19b1",
   "metadata": {},
   "outputs": [],
   "source": [
    "# Instantiate model\n",
    "entmod = tree.DecisionTreeClassifier(criterion = 'entropy', max_depth = 3, random_state = 123)\n",
    "\n",
    "# Fit model\n",
    "entmod.fit(x_train, y_train)\n",
    "\n",
    "# Prediction\n",
    "y_pred = entmod.predict(x_test)\n",
    "\n",
    "# Transform predition to pd.Series\n",
    "y_pred = pd.Series(y_pred)"
   ]
  },
  {
   "cell_type": "code",
   "execution_count": 52,
   "id": "c10a2491",
   "metadata": {},
   "outputs": [],
   "source": [
    "import os\n",
    "os.environ[\"PATH\"] += os.pathsep + 'C:/Program Files/Graphviz/bin/'"
   ]
  },
  {
   "cell_type": "code",
   "execution_count": 53,
   "id": "757f588b",
   "metadata": {},
   "outputs": [
    {
     "data": {
      "image/png": "[encoded data removed]",
      "text/plain": [
       "<IPython.core.display.Image object>"
      ]
     },
     "execution_count": 53,
     "metadata": {},
     "output_type": "execute_result"
    }
   ],
   "source": [
    "# Visualization\n",
    "dot_data = StringIO()\n",
    "\n",
    "# Graphviz export\n",
    "tree.export_graphviz(entmod, out_file = dot_data, filled = True, rounded = True, special_characters = True, \n",
    "                    feature_names = x_train.columns, class_names = ['NO','YES']) \n",
    "\n",
    "# PNG image\n",
    "pl = pydotplus.graph_from_dot_data(dot_data.getvalue())\n",
    "Image(pl.create_png())"
   ]
  },
  {
   "cell_type": "markdown",
   "id": "cfabcace",
   "metadata": {},
   "source": [
    "### 6.3 Metrics"
   ]
  },
  {
   "cell_type": "code",
   "execution_count": 55,
   "id": "428e3fbd",
   "metadata": {},
   "outputs": [
    {
     "name": "stdout",
     "output_type": "stream",
     "text": [
      "[[8187  810]\n",
      " [5443 3415]]\n"
     ]
    }
   ],
   "source": [
    "print(confusion_matrix(y_test,y_pred))"
   ]
  },
  {
   "cell_type": "code",
   "execution_count": 56,
   "id": "64173716",
   "metadata": {},
   "outputs": [
    {
     "name": "stdout",
     "output_type": "stream",
     "text": [
      "              precision    recall  f1-score   support\n",
      "\n",
      "          No       0.60      0.91      0.72      8997\n",
      "         Yes       0.81      0.39      0.52      8858\n",
      "\n",
      "    accuracy                           0.65     17855\n",
      "   macro avg       0.70      0.65      0.62     17855\n",
      "weighted avg       0.70      0.65      0.62     17855\n",
      "\n"
     ]
    }
   ],
   "source": [
    "print(classification_report(y_test, y_pred))"
   ]
  },
  {
   "cell_type": "markdown",
   "id": "cbe886d2",
   "metadata": {},
   "source": [
    "## 7. Modelling: Logistic Regression Model"
   ]
  },
  {
   "cell_type": "code",
   "execution_count": 57,
   "id": "57b53133",
   "metadata": {},
   "outputs": [],
   "source": [
    "from sklearn.model_selection import train_test_split\n",
    "from sklearn.linear_model import LogisticRegression\n",
    "\n",
    "from sklearn.model_selection import GridSearchCV\n",
    "\n",
    "from sklearn.model_selection import cross_val_score\n",
    "from sklearn.metrics import confusion_matrix\n",
    "from sklearn.metrics import classification_report"
   ]
  },
  {
   "cell_type": "markdown",
   "id": "fac99369",
   "metadata": {},
   "source": [
    "### 7.1 Feature Engineering"
   ]
  },
  {
   "cell_type": "code",
   "execution_count": 99,
   "id": "4986a4bc",
   "metadata": {},
   "outputs": [
    {
     "data": {
      "text/html": [
       "<div>\n",
       "<style scoped>\n",
       "    .dataframe tbody tr th:only-of-type {\n",
       "        vertical-align: middle;\n",
       "    }\n",
       "\n",
       "    .dataframe tbody tr th {\n",
       "        vertical-align: top;\n",
       "    }\n",
       "\n",
       "    .dataframe thead th {\n",
       "        text-align: right;\n",
       "    }\n",
       "</style>\n",
       "<table border=\"1\" class=\"dataframe\">\n",
       "  <thead>\n",
       "    <tr style=\"text-align: right;\">\n",
       "      <th></th>\n",
       "      <th>Month</th>\n",
       "      <th>Day</th>\n",
       "      <th>Time</th>\n",
       "      <th>Amount</th>\n",
       "      <th>Merchant City</th>\n",
       "      <th>Errors?</th>\n",
       "      <th>Use Chip</th>\n",
       "      <th>Card</th>\n",
       "    </tr>\n",
       "  </thead>\n",
       "  <tbody>\n",
       "    <tr>\n",
       "      <th>0</th>\n",
       "      <td>12</td>\n",
       "      <td>18</td>\n",
       "      <td>13</td>\n",
       "      <td>11.11</td>\n",
       "      <td>Local</td>\n",
       "      <td>none</td>\n",
       "      <td>Swipe Transaction</td>\n",
       "      <td>5</td>\n",
       "    </tr>\n",
       "    <tr>\n",
       "      <th>1</th>\n",
       "      <td>4</td>\n",
       "      <td>14</td>\n",
       "      <td>7</td>\n",
       "      <td>1.61</td>\n",
       "      <td>Local</td>\n",
       "      <td>none</td>\n",
       "      <td>Swipe Transaction</td>\n",
       "      <td>3</td>\n",
       "    </tr>\n",
       "    <tr>\n",
       "      <th>2</th>\n",
       "      <td>3</td>\n",
       "      <td>12</td>\n",
       "      <td>13</td>\n",
       "      <td>32.61</td>\n",
       "      <td>Local</td>\n",
       "      <td>none</td>\n",
       "      <td>Chip Transaction</td>\n",
       "      <td>0</td>\n",
       "    </tr>\n",
       "    <tr>\n",
       "      <th>3</th>\n",
       "      <td>4</td>\n",
       "      <td>5</td>\n",
       "      <td>10</td>\n",
       "      <td>-92.00</td>\n",
       "      <td>Local</td>\n",
       "      <td>none</td>\n",
       "      <td>Chip Transaction</td>\n",
       "      <td>3</td>\n",
       "    </tr>\n",
       "    <tr>\n",
       "      <th>4</th>\n",
       "      <td>7</td>\n",
       "      <td>25</td>\n",
       "      <td>7</td>\n",
       "      <td>48.03</td>\n",
       "      <td>Local</td>\n",
       "      <td>none</td>\n",
       "      <td>Swipe Transaction</td>\n",
       "      <td>5</td>\n",
       "    </tr>\n",
       "  </tbody>\n",
       "</table>\n",
       "</div>"
      ],
      "text/plain": [
       "   Month  Day  Time  Amount Merchant City Errors?           Use Chip  Card\n",
       "0     12   18    13   11.11         Local    none  Swipe Transaction     5\n",
       "1      4   14     7    1.61         Local    none  Swipe Transaction     3\n",
       "2      3   12    13   32.61         Local    none   Chip Transaction     0\n",
       "3      4    5    10  -92.00         Local    none   Chip Transaction     3\n",
       "4      7   25     7   48.03         Local    none  Swipe Transaction     5"
      ]
     },
     "execution_count": 99,
     "metadata": {},
     "output_type": "execute_result"
    }
   ],
   "source": [
    "# Choose feature variables\n",
    "# x2 = sample.drop('Is Fraud?', axis = 1, inplace = False)\n",
    "x2 = sample[['Month','Day','Time','Amount','Merchant City','Errors?', 'Use Chip','Card']]\n",
    "x2.head()"
   ]
  },
  {
   "cell_type": "code",
   "execution_count": 59,
   "id": "7a4cf461",
   "metadata": {},
   "outputs": [
    {
     "data": {
      "text/html": [
       "<div>\n",
       "<style scoped>\n",
       "    .dataframe tbody tr th:only-of-type {\n",
       "        vertical-align: middle;\n",
       "    }\n",
       "\n",
       "    .dataframe tbody tr th {\n",
       "        vertical-align: top;\n",
       "    }\n",
       "\n",
       "    .dataframe thead th {\n",
       "        text-align: right;\n",
       "    }\n",
       "</style>\n",
       "<table border=\"1\" class=\"dataframe\">\n",
       "  <thead>\n",
       "    <tr style=\"text-align: right;\">\n",
       "      <th></th>\n",
       "      <th>Is Fraud?</th>\n",
       "    </tr>\n",
       "  </thead>\n",
       "  <tbody>\n",
       "    <tr>\n",
       "      <th>0</th>\n",
       "      <td>Yes</td>\n",
       "    </tr>\n",
       "    <tr>\n",
       "      <th>1</th>\n",
       "      <td>No</td>\n",
       "    </tr>\n",
       "    <tr>\n",
       "      <th>2</th>\n",
       "      <td>Yes</td>\n",
       "    </tr>\n",
       "    <tr>\n",
       "      <th>3</th>\n",
       "      <td>No</td>\n",
       "    </tr>\n",
       "    <tr>\n",
       "      <th>4</th>\n",
       "      <td>No</td>\n",
       "    </tr>\n",
       "  </tbody>\n",
       "</table>\n",
       "</div>"
      ],
      "text/plain": [
       "  Is Fraud?\n",
       "0       Yes\n",
       "1        No\n",
       "2       Yes\n",
       "3        No\n",
       "4        No"
      ]
     },
     "execution_count": 59,
     "metadata": {},
     "output_type": "execute_result"
    }
   ],
   "source": [
    "# Choose labels\n",
    "y = sample[['Is Fraud?']]\n",
    "y.head()"
   ]
  },
  {
   "cell_type": "code",
   "execution_count": 67,
   "id": "a0c72f0d",
   "metadata": {},
   "outputs": [],
   "source": [
    "y = np.array(y).reshape(-1)"
   ]
  },
  {
   "cell_type": "code",
   "execution_count": 100,
   "id": "04c93e1f",
   "metadata": {},
   "outputs": [
    {
     "data": {
      "text/html": [
       "<div>\n",
       "<style scoped>\n",
       "    .dataframe tbody tr th:only-of-type {\n",
       "        vertical-align: middle;\n",
       "    }\n",
       "\n",
       "    .dataframe tbody tr th {\n",
       "        vertical-align: top;\n",
       "    }\n",
       "\n",
       "    .dataframe thead th {\n",
       "        text-align: right;\n",
       "    }\n",
       "</style>\n",
       "<table border=\"1\" class=\"dataframe\">\n",
       "  <thead>\n",
       "    <tr style=\"text-align: right;\">\n",
       "      <th></th>\n",
       "      <th>Month</th>\n",
       "      <th>Day</th>\n",
       "      <th>Time</th>\n",
       "      <th>Amount</th>\n",
       "      <th>Card</th>\n",
       "      <th>Merchant City_Local</th>\n",
       "      <th>Merchant City_ONLINE</th>\n",
       "      <th>Errors?_Bad CVV,Insufficient Balance</th>\n",
       "      <th>Errors?_Bad CVV,Technical Glitch</th>\n",
       "      <th>Errors?_Bad Card Number</th>\n",
       "      <th>...</th>\n",
       "      <th>Errors?_Bad PIN</th>\n",
       "      <th>Errors?_Bad PIN,Insufficient Balance</th>\n",
       "      <th>Errors?_Bad PIN,Technical Glitch</th>\n",
       "      <th>Errors?_Bad Zipcode</th>\n",
       "      <th>Errors?_Insufficient Balance</th>\n",
       "      <th>Errors?_Insufficient Balance,Technical Glitch</th>\n",
       "      <th>Errors?_Technical Glitch</th>\n",
       "      <th>Errors?_none</th>\n",
       "      <th>Use Chip_Online Transaction</th>\n",
       "      <th>Use Chip_Swipe Transaction</th>\n",
       "    </tr>\n",
       "  </thead>\n",
       "  <tbody>\n",
       "    <tr>\n",
       "      <th>0</th>\n",
       "      <td>12</td>\n",
       "      <td>18</td>\n",
       "      <td>13</td>\n",
       "      <td>11.11</td>\n",
       "      <td>5</td>\n",
       "      <td>1</td>\n",
       "      <td>0</td>\n",
       "      <td>0</td>\n",
       "      <td>0</td>\n",
       "      <td>0</td>\n",
       "      <td>...</td>\n",
       "      <td>0</td>\n",
       "      <td>0</td>\n",
       "      <td>0</td>\n",
       "      <td>0</td>\n",
       "      <td>0</td>\n",
       "      <td>0</td>\n",
       "      <td>0</td>\n",
       "      <td>1</td>\n",
       "      <td>0</td>\n",
       "      <td>1</td>\n",
       "    </tr>\n",
       "    <tr>\n",
       "      <th>1</th>\n",
       "      <td>4</td>\n",
       "      <td>14</td>\n",
       "      <td>7</td>\n",
       "      <td>1.61</td>\n",
       "      <td>3</td>\n",
       "      <td>1</td>\n",
       "      <td>0</td>\n",
       "      <td>0</td>\n",
       "      <td>0</td>\n",
       "      <td>0</td>\n",
       "      <td>...</td>\n",
       "      <td>0</td>\n",
       "      <td>0</td>\n",
       "      <td>0</td>\n",
       "      <td>0</td>\n",
       "      <td>0</td>\n",
       "      <td>0</td>\n",
       "      <td>0</td>\n",
       "      <td>1</td>\n",
       "      <td>0</td>\n",
       "      <td>1</td>\n",
       "    </tr>\n",
       "    <tr>\n",
       "      <th>2</th>\n",
       "      <td>3</td>\n",
       "      <td>12</td>\n",
       "      <td>13</td>\n",
       "      <td>32.61</td>\n",
       "      <td>0</td>\n",
       "      <td>1</td>\n",
       "      <td>0</td>\n",
       "      <td>0</td>\n",
       "      <td>0</td>\n",
       "      <td>0</td>\n",
       "      <td>...</td>\n",
       "      <td>0</td>\n",
       "      <td>0</td>\n",
       "      <td>0</td>\n",
       "      <td>0</td>\n",
       "      <td>0</td>\n",
       "      <td>0</td>\n",
       "      <td>0</td>\n",
       "      <td>1</td>\n",
       "      <td>0</td>\n",
       "      <td>0</td>\n",
       "    </tr>\n",
       "    <tr>\n",
       "      <th>3</th>\n",
       "      <td>4</td>\n",
       "      <td>5</td>\n",
       "      <td>10</td>\n",
       "      <td>-92.00</td>\n",
       "      <td>3</td>\n",
       "      <td>1</td>\n",
       "      <td>0</td>\n",
       "      <td>0</td>\n",
       "      <td>0</td>\n",
       "      <td>0</td>\n",
       "      <td>...</td>\n",
       "      <td>0</td>\n",
       "      <td>0</td>\n",
       "      <td>0</td>\n",
       "      <td>0</td>\n",
       "      <td>0</td>\n",
       "      <td>0</td>\n",
       "      <td>0</td>\n",
       "      <td>1</td>\n",
       "      <td>0</td>\n",
       "      <td>0</td>\n",
       "    </tr>\n",
       "    <tr>\n",
       "      <th>4</th>\n",
       "      <td>7</td>\n",
       "      <td>25</td>\n",
       "      <td>7</td>\n",
       "      <td>48.03</td>\n",
       "      <td>5</td>\n",
       "      <td>1</td>\n",
       "      <td>0</td>\n",
       "      <td>0</td>\n",
       "      <td>0</td>\n",
       "      <td>0</td>\n",
       "      <td>...</td>\n",
       "      <td>0</td>\n",
       "      <td>0</td>\n",
       "      <td>0</td>\n",
       "      <td>0</td>\n",
       "      <td>0</td>\n",
       "      <td>0</td>\n",
       "      <td>0</td>\n",
       "      <td>1</td>\n",
       "      <td>0</td>\n",
       "      <td>1</td>\n",
       "    </tr>\n",
       "  </tbody>\n",
       "</table>\n",
       "<p>5 rows × 25 columns</p>\n",
       "</div>"
      ],
      "text/plain": [
       "   Month  Day  Time  Amount  Card  Merchant City_Local  Merchant City_ONLINE  \\\n",
       "0     12   18    13   11.11     5                    1                     0   \n",
       "1      4   14     7    1.61     3                    1                     0   \n",
       "2      3   12    13   32.61     0                    1                     0   \n",
       "3      4    5    10  -92.00     3                    1                     0   \n",
       "4      7   25     7   48.03     5                    1                     0   \n",
       "\n",
       "   Errors?_Bad CVV,Insufficient Balance  Errors?_Bad CVV,Technical Glitch  \\\n",
       "0                                     0                                 0   \n",
       "1                                     0                                 0   \n",
       "2                                     0                                 0   \n",
       "3                                     0                                 0   \n",
       "4                                     0                                 0   \n",
       "\n",
       "   Errors?_Bad Card Number  ...  Errors?_Bad PIN  \\\n",
       "0                        0  ...                0   \n",
       "1                        0  ...                0   \n",
       "2                        0  ...                0   \n",
       "3                        0  ...                0   \n",
       "4                        0  ...                0   \n",
       "\n",
       "   Errors?_Bad PIN,Insufficient Balance  Errors?_Bad PIN,Technical Glitch  \\\n",
       "0                                     0                                 0   \n",
       "1                                     0                                 0   \n",
       "2                                     0                                 0   \n",
       "3                                     0                                 0   \n",
       "4                                     0                                 0   \n",
       "\n",
       "   Errors?_Bad Zipcode  Errors?_Insufficient Balance  \\\n",
       "0                    0                             0   \n",
       "1                    0                             0   \n",
       "2                    0                             0   \n",
       "3                    0                             0   \n",
       "4                    0                             0   \n",
       "\n",
       "   Errors?_Insufficient Balance,Technical Glitch  Errors?_Technical Glitch  \\\n",
       "0                                              0                         0   \n",
       "1                                              0                         0   \n",
       "2                                              0                         0   \n",
       "3                                              0                         0   \n",
       "4                                              0                         0   \n",
       "\n",
       "   Errors?_none  Use Chip_Online Transaction  Use Chip_Swipe Transaction  \n",
       "0             1                            0                           1  \n",
       "1             1                            0                           1  \n",
       "2             1                            0                           0  \n",
       "3             1                            0                           0  \n",
       "4             1                            0                           1  \n",
       "\n",
       "[5 rows x 25 columns]"
      ]
     },
     "execution_count": 100,
     "metadata": {},
     "output_type": "execute_result"
    }
   ],
   "source": [
    "# Create dummy variables\n",
    "xd2 = pd.get_dummies(x2,drop_first = True)\n",
    "xd2.head()"
   ]
  },
  {
   "cell_type": "code",
   "execution_count": 101,
   "id": "43e0174a",
   "metadata": {},
   "outputs": [],
   "source": [
    "# Create train and test sets with 30% test\n",
    "x2_train, x2_test, y_train, y_test = train_test_split(xd2, y, test_size = 0.3, random_state = 123)"
   ]
  },
  {
   "cell_type": "markdown",
   "id": "acf241ce",
   "metadata": {},
   "source": [
    "### 7.2 Logistic Regression Model"
   ]
  },
  {
   "cell_type": "code",
   "execution_count": 104,
   "id": "32796240",
   "metadata": {},
   "outputs": [],
   "source": [
    "# Define hyperparameter space (c_space)\n",
    "c_space = np.logspace(-5,8,15)\n",
    "# Define grid\n",
    "grid = {'C':c_space}\n",
    "# Instatiate LogReg classifier\n",
    "lr = LogisticRegression(solver = 'lbfgs', max_iter = 1600)\n",
    "# GridSearch\n",
    "lrcv = GridSearchCV(lr, grid, cv = 5)"
   ]
  },
  {
   "cell_type": "code",
   "execution_count": 105,
   "id": "2e04f5a8",
   "metadata": {},
   "outputs": [
    {
     "data": {
      "text/plain": [
       "{'C': 11787686.347935867}"
      ]
     },
     "execution_count": 105,
     "metadata": {},
     "output_type": "execute_result"
    }
   ],
   "source": [
    "lrcv.fit(xd2,y)\n",
    "lrcv.best_params_"
   ]
  },
  {
   "cell_type": "code",
   "execution_count": 106,
   "id": "e3c8ce58",
   "metadata": {},
   "outputs": [
    {
     "data": {
      "text/plain": [
       "0.826931562816348"
      ]
     },
     "execution_count": 106,
     "metadata": {},
     "output_type": "execute_result"
    }
   ],
   "source": [
    "lrcv.best_score_"
   ]
  },
  {
   "cell_type": "code",
   "execution_count": 107,
   "id": "0bcba6a2",
   "metadata": {},
   "outputs": [
    {
     "data": {
      "text/plain": [
       "LogisticRegression(C=11787686.347935867, max_iter=600)"
      ]
     },
     "execution_count": 107,
     "metadata": {},
     "output_type": "execute_result"
    }
   ],
   "source": [
    "# Fitting model\n",
    "lr = LogisticRegression(C = 11787686.347935867, solver = 'lbfgs', max_iter = 600)\n",
    "lr.fit(x2_train, y_train)"
   ]
  },
  {
   "cell_type": "code",
   "execution_count": 108,
   "id": "6567e5a3",
   "metadata": {},
   "outputs": [],
   "source": [
    "y2_pred = lr.predict(x2_test)"
   ]
  },
  {
   "cell_type": "markdown",
   "id": "06720f0c",
   "metadata": {},
   "source": [
    "### 7.3 Metrics"
   ]
  },
  {
   "cell_type": "code",
   "execution_count": 109,
   "id": "57b416e2",
   "metadata": {},
   "outputs": [
    {
     "name": "stdout",
     "output_type": "stream",
     "text": [
      "[[8761  236]\n",
      " [2882 5976]]\n"
     ]
    }
   ],
   "source": [
    "print(confusion_matrix(y_test,y2_pred))"
   ]
  },
  {
   "cell_type": "code",
   "execution_count": 110,
   "id": "2e575ac7",
   "metadata": {},
   "outputs": [
    {
     "name": "stdout",
     "output_type": "stream",
     "text": [
      "              precision    recall  f1-score   support\n",
      "\n",
      "          No       0.75      0.97      0.85      8997\n",
      "         Yes       0.96      0.67      0.79      8858\n",
      "\n",
      "    accuracy                           0.83     17855\n",
      "   macro avg       0.86      0.82      0.82     17855\n",
      "weighted avg       0.86      0.83      0.82     17855\n",
      "\n"
     ]
    }
   ],
   "source": [
    "print(classification_report(y_test, y2_pred))"
   ]
  },
  {
   "cell_type": "code",
   "execution_count": null,
   "id": "193a9f6d",
   "metadata": {},
   "outputs": [],
   "source": []
  },
  {
   "cell_type": "code",
   "execution_count": null,
   "id": "737fd95c",
   "metadata": {},
   "outputs": [],
   "source": []
  }
 ],
 "metadata": {
  "kernelspec": {
   "display_name": "Python 3 (ipykernel)",
   "language": "python",
   "name": "python3"
  },
  "language_info": {
   "codemirror_mode": {
    "name": "ipython",
    "version": 3
   },
   "file_extension": ".py",
   "mimetype": "text/x-python",
   "name": "python",
   "nbconvert_exporter": "python",
   "pygments_lexer": "ipython3",
   "version": "3.9.6"
  }
 },
 "nbformat": 4,
 "nbformat_minor": 5
}
